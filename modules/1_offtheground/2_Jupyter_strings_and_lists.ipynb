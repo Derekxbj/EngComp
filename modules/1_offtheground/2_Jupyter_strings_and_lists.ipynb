{
 "cells": [
  {
   "cell_type": "markdown",
   "metadata": {},
   "source": [
    "# What is Jupyter?\n",
    "\n",
    "Jupyter is a way of computing and doing data science right on your browser. It gives you a **Notebook** — this document we're looking at now. \n",
    "\n",
    "A Jupyter Notebook can contain: formatted text, images, videos, pretty math equations, and _executable computer code_. By \"executable,\" we mean that you run the bits of code, right in the document, and get some output displayed for you. This interactive way of computing, mixed with the text, allows you to tell a story (even to yourself) with extra powers!"
   ]
  },
  {
   "cell_type": "markdown",
   "metadata": {},
   "source": [
    "The notebook uses cells to divide text and code: text is formatted using markdown, and code is executed using the IPython kernel.\n",
    "\n",
    "[Markdown](https://daringfireball.net/projects/markdown/) is a simple way to format text; it has a plain text formatting syntax that can be converted easily to HTML. It is easy to learn, check out the syntax in the \"Daring Fireball\" (by John Gruber) [webpage](https://daringfireball.net/projects/markdown/syntax)."
   ]
  },
  {
   "cell_type": "markdown",
   "metadata": {},
   "source": [
    "## How do we start the Jupyter notebook app?\n",
    "\n",
    "If you follow the installation steps for this workshop listed in\n",
    "the\n",
    "[required software](https://github.com/barbagroup/essential_skills_RRC/blob/master/software_requirements.md) markdown,\n",
    "you should have jupyter installed. If not, go to the link and follow the\n",
    "installation requirements.\n",
    "\n",
    "All set? Let's open a terminal and type `jupyter notebook` hit enter and tadah!!\n",
    "Your default browser will open with the jupyter app. It should look like this:\n",
    "\n",
    "<img src=\"images/jupyter-main.png\" style=\"width: 800px;\"/> \n",
    "\n",
    "\n",
    "To start a new notebook click on the top right where it says **New** and click \n",
    "on `Python 3`. \n",
    "\n",
    "<img src=\"images/create_notebook.png\" style=\"width: 800px;\"/> \n",
    "\n",
    "A new tab will appear in your browser and you will see:\n",
    "\n",
    "<img src=\"images/new_notebook.png\" style=\"width: 800px;\"/> \n",
    "\n",
    "The notebook opens by default with a single empty code cell. Try to write some Python there and execute the cell by doing `[shift] + [enter]`."
   ]
  },
  {
   "cell_type": "markdown",
   "metadata": {},
   "source": [
    "## Notebook cells\n",
    "\n",
    "The notebook uses _cells_ to break things up into bits of text, and bits of code. This here is a *Markdown* cell: it contains text that you can format using simple markers to get headings, bold, italic, bullet points, hyperlinks, and more.\n",
    "\n",
    "Here's a bit of history: Markdown was co-created by the legendary but tragic [Aaron Swartz](https://en.wikipedia.org/wiki/Aaron_Swartz).\n",
    "\n",
    "A few tips:\n",
    "\n",
    "* to create a title, use a hash to start the line: `# Title`\n",
    "* to create the next heading, use two hashes (and so on): `## Heading`\n",
    "* to italicize a word or phrase, enclose it in asterisks (or underdashes): `*italic*` or `_italic_`\n",
    "* to make it bold, enclose it with two asterisks: `**bolded**`\n",
    "* to make a hyperlink, use square and round brackets: `[hyperlinked text](url)`\n",
    "\n",
    "Look at the icons on the menu above. The first icon on the left (an old floppy disk) is for saving your notebook. You can add a new cell with the big **+** button. Then you have the cut, copy, and paste buttons. The arrows are to move your current cell up or down. Then you have a button to \"run\" a code cell, the square icon means \"stop\" and the swirly arrow is to \"restart\" your notebook (if the computation is stuck, for example). Next to that, you have the cell-type selector: Code or Markdown (or others that you can ignore for now).\n",
    "\n",
    "A code cell will show you an input mark, like this: \n",
    "\n",
    "`In [ ]:`\n",
    "\n",
    "Once you execute the code, it will add a number id to the input cell, and produce an output marked like this:\n",
    "\n",
    "`Out [1]:`\n",
    "\n",
    "You can test-drive a code cell by writing some arithmetic operations; Python operators are:\n",
    "```python\n",
    "    +   -   *   /   **   %   //\n",
    "```\n",
    "\n",
    "There's addition, subtraction, multiplication and division. The last three operators are _exponent_ (raise to the power of), _modulo_ (divide and return remainder) and _floor division_.\n",
    "\n",
    "Typing `[shift] + [enter]` will execute the cell and give you the output in a new line, labeled `Out[1]` (the numbering increases each time you execute a cell).\n",
    "\n",
    "_Try it!_ Add a cell with the plus button, enter some operations, and `[shift] + [enter]` to execute."
   ]
  },
  {
   "cell_type": "code",
   "execution_count": null,
   "metadata": {
    "collapsed": true
   },
   "outputs": [],
   "source": []
  },
  {
   "cell_type": "markdown",
   "metadata": {},
   "source": [
    "Everything we did using `IPython` we can do it in the code cells in the Jupyter notebook. Try out some line: "
   ]
  },
  {
   "cell_type": "code",
   "execution_count": 1,
   "metadata": {},
   "outputs": [
    {
     "name": "stdout",
     "output_type": "stream",
     "text": [
      "Hello World!\n"
     ]
    }
   ],
   "source": [
    "print(\"Hello World!\")"
   ]
  },
  {
   "cell_type": "code",
   "execution_count": 2,
   "metadata": {},
   "outputs": [
    {
     "data": {
      "text/plain": [
       "False"
      ]
     },
     "execution_count": 2,
     "metadata": {},
     "output_type": "execute_result"
    }
   ],
   "source": [
    "x = 2**8\n",
    "x < 64"
   ]
  },
  {
   "cell_type": "markdown",
   "metadata": {},
   "source": [
    "## The two different modes: Edit mode and Command mode [1]\n",
    "\n",
    "**Edit mode:**\n",
    "\n",
    "* We know we are in this mode when we see a green cell border and a prompt \n",
    "showing in the editor area.\n",
    "\n",
    "* We enter in **edit mode** by pressing `Enter` or clicking on the cell.\n",
    "\n",
    "* When we are in edit mode, we can type into the cell, like a normal text editor.\n",
    "\n",
    "\n",
    "**Command mode:**\n",
    "\n",
    "* We know we are in this mode when we see a grey cell border with a left blue\n",
    "margin.\n",
    "\n",
    "* We enter in **command mode** by pressing `Esc` or clicking outside the cell's\n",
    "area.\n",
    "\n",
    "* In **command mode** the certain keys are mapped to shortcuts that help with\n",
    "  common actions.\n",
    "\n",
    "\n",
    "You can find a list of the shortcuts by selecting `Help->Keyboard Shortcuts`\n",
    "from the notebook menu bar. Check them out and have fun!\n",
    "\n",
    "\n",
    "## How we shut down the Kernel?\n",
    "\n",
    "Once you close your notebook, you will see in the main Jupyter page that your \n",
    "notebook file has a green book symbol. You should click in the box at the left \n",
    "of that symbol, and then click where it says `shutdown`. Finally, go to the\n",
    "terminal that we use at the beginning to open the jupyter notebook and type\n",
    "`[Ctrl] + [c]` and you are all done!\n",
    "\n",
    "## Nbviewer\n",
    "\n",
    "[Nbviewer](http://nbviewer.jupyter.org/) is a free webservice that allows you to share static html versions of hosted\n",
    "notebook files. If a notebook is publicly available, by giving its url to the Viewer, you should be able to view it [2].\n",
    "You just need to host the notebook file (.ipynb extension) online and enter the public URL to the file on the nbviewer\n",
    "Go! box. The notebook will be rendered like a static webpage: visitors can read everything, but they cannot interact with\n",
    "the code. \n"
   ]
  },
  {
   "cell_type": "markdown",
   "metadata": {},
   "source": [
    "## Back to Code!!\n",
    "\n",
    "Let's keep inspecting strings, now coding in the notebook!"
   ]
  },
  {
   "cell_type": "code",
   "execution_count": 3,
   "metadata": {
    "collapsed": true
   },
   "outputs": [],
   "source": [
    "str_1 = 'hello'\n",
    "str_2 = 'world'"
   ]
  },
  {
   "cell_type": "markdown",
   "metadata": {},
   "source": [
    "Remember that we can concatenate strings (\"add\"), for example:"
   ]
  },
  {
   "cell_type": "code",
   "execution_count": 4,
   "metadata": {},
   "outputs": [
    {
     "name": "stdout",
     "output_type": "stream",
     "text": [
      "helloworld\n"
     ]
    }
   ],
   "source": [
    "my_string = str_1 + str_2\n",
    "print(my_string)"
   ]
  },
  {
   "cell_type": "markdown",
   "metadata": {},
   "source": [
    "What if we want to add a space that separates `hello` from `world`? "
   ]
  },
  {
   "cell_type": "code",
   "execution_count": 5,
   "metadata": {},
   "outputs": [
    {
     "name": "stdout",
     "output_type": "stream",
     "text": [
      "hello world\n"
     ]
    }
   ],
   "source": [
    "new_string = str_1 + ' ' + str_2\n",
    "print(new_string)"
   ]
  },
  {
   "cell_type": "markdown",
   "metadata": {},
   "source": [
    "**Exercise:** Create a new variable that has three exaclamation marks at the end of `new_string` "
   ]
  },
  {
   "cell_type": "code",
   "execution_count": null,
   "metadata": {
    "collapsed": true
   },
   "outputs": [],
   "source": []
  },
  {
   "cell_type": "code",
   "execution_count": null,
   "metadata": {
    "collapsed": true
   },
   "outputs": [],
   "source": []
  },
  {
   "cell_type": "markdown",
   "metadata": {},
   "source": [
    "\n",
    "## References:\n",
    "\n",
    "1. [Notebook Basics: Modal Editor](http://jupyter-notebook.readthedocs.io/en/latest/examples/Notebook/Notebook%20Basics.html)\n",
    "2. [Nbviewer](http://nbviewer.jupyter.org/)\n"
   ]
  },
  {
   "cell_type": "code",
   "execution_count": null,
   "metadata": {
    "collapsed": true
   },
   "outputs": [],
   "source": []
  }
 ],
 "metadata": {
  "kernelspec": {
   "display_name": "Python 3",
   "language": "python",
   "name": "python3"
  },
  "language_info": {
   "codemirror_mode": {
    "name": "ipython",
    "version": 3
   },
   "file_extension": ".py",
   "mimetype": "text/x-python",
   "name": "python",
   "nbconvert_exporter": "python",
   "pygments_lexer": "ipython3",
   "version": "3.5.3"
  }
 },
 "nbformat": 4,
 "nbformat_minor": 2
}
