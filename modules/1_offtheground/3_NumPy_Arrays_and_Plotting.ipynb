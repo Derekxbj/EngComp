{
 "cells": [
  {
   "cell_type": "markdown",
   "metadata": {},
   "source": [
    "# NumPy Arrays\n",
    "\n",
    "Most of the computational problems in engineering involve *arrays*. We used them to describe discretized or numerical  problems. Even more arrays are useful to represent calculus operations, like derivatives or integration. \n",
    "\n",
    "When we computations that need to be repeated for different values, it is advantageous to represent that data as arrays and use array operations. We call this kind of computations *vectorized*. Using vectorized computations avoid using many for loops by applying operations in \"batches\". This behaviour results in programs that run faster than their \"loop version\".   \n",
    "\n",
    "In Python the scientific computing enviornment comes with the NumPy library. This library counts with data structures and a collection of operators and functions that make more efficient the operations that involve arrays. From now on, everytime that we need to manipulate arrays/matrices operation we will work with NumPy. \n"
   ]
  },
  {
   "cell_type": "markdown",
   "metadata": {},
   "source": [
    "## Importing libraries\n",
    "\n",
    "First, a word on importing libraries. To import a library we used the `import` command. For example, to import Numpy we do:\n",
    "\n",
    "```python\n",
    "import numpy\n",
    "```\n",
    "this load all the functions in the **NumPy** library:\n",
    "\n",
    "Once you execute that command in a code cell, you can call any **NumPy** function by prepending the library name, e.g., `numpy.linspace()`, [`numpy.ones()`](https://docs.scipy.org/doc/numpy/reference/generated/numpy.ones.html#numpy.ones), [`numpy.zeros()`](https://docs.scipy.org/doc/numpy/reference/generated/numpy.zeros.html#numpy.zeros), [`numpy.empty()`](https://docs.scipy.org/doc/numpy/reference/generated/numpy.empty.html#numpy.empty), [`numpy.copy()`](https://docs.scipy.org/doc/numpy/reference/generated/numpy.copy.html#numpy.copy), and so on (explore the documentation for these very useful functions!).\n",
    "\n",
    "But, you will find _a lot_ of sample code online that uses a different syntax for importing. They will do:\n",
    "```python\n",
    "import numpy as np\n",
    "```\n",
    "All this does is create an alias for `numpy` with the shorter string `np`, so you then would call a **NumPy** function like this: `np.linspace()`. This is just an alternative way of doing it, for lazy people that find it too long to type `numpy` and want to save 3 characters each time. For the not-lazy, typing `numpy` is more readable and beautiful. We like it better like this:"
   ]
  },
  {
   "cell_type": "code",
   "execution_count": 1,
   "metadata": {
    "collapsed": true
   },
   "outputs": [],
   "source": [
    "import numpy"
   ]
  },
  {
   "cell_type": "markdown",
   "metadata": {},
   "source": [
    "To use one of **NumPy**'s functions, we prepend `numpy.` (with the dot) to the function name. For example, to create an array we do:"
   ]
  },
  {
   "cell_type": "code",
   "execution_count": 2,
   "metadata": {},
   "outputs": [
    {
     "data": {
      "text/plain": [
       "array([ 3,  5,  8, 17])"
      ]
     },
     "execution_count": 2,
     "metadata": {},
     "output_type": "execute_result"
    }
   ],
   "source": [
    "numpy.array([3, 5, 8, 17])"
   ]
  },
  {
   "cell_type": "markdown",
   "metadata": {},
   "source": [
    "NumPy has different ways to create arrays in addition to the normal `array()`. Probably the more useful are: [`numpy.ones()`](https://docs.scipy.org/doc/numpy/reference/generated/numpy.ones.html#numpy.ones), [`numpy.zeros()`](https://docs.scipy.org/doc/numpy/reference/generated/numpy.zeros.html#numpy.zeros), [`numpy.arange()`](https://docs.scipy.org/doc/numpy/reference/generated/numpy.arange.html) and [`numpy.linspace()`](https://docs.scipy.org/doc/numpy/reference/generated/numpy.linspace.html). "
   ]
  },
  {
   "cell_type": "markdown",
   "metadata": {},
   "source": [
    "`numpy.ones()` and `numpy.zeros()` are very intuitively, they create arrays full of ones and zeros respectively. The amount of elements in the arrays are determined by the integer we pass as an argument. "
   ]
  },
  {
   "cell_type": "code",
   "execution_count": 3,
   "metadata": {},
   "outputs": [
    {
     "data": {
      "text/plain": [
       "array([ 1.,  1.,  1.,  1.,  1.])"
      ]
     },
     "execution_count": 3,
     "metadata": {},
     "output_type": "execute_result"
    }
   ],
   "source": [
    "numpy.ones(5)"
   ]
  },
  {
   "cell_type": "code",
   "execution_count": 4,
   "metadata": {},
   "outputs": [
    {
     "data": {
      "text/plain": [
       "array([ 0.,  0.,  0.])"
      ]
     },
     "execution_count": 4,
     "metadata": {},
     "output_type": "execute_result"
    }
   ],
   "source": [
    "numpy.zeros(3)"
   ]
  },
  {
   "cell_type": "markdown",
   "metadata": {},
   "source": [
    "`numpy.arange()` gives as an evenly spaced values in a defined interval. \n",
    "\n",
    "*Syntax:*\n",
    "\n",
    "`numpy.arange(start, stop, step)`\n",
    "\n",
    "where `start` by default is zero, `stop` is not inclusive, and the default\n",
    "for `step` is one.  \n"
   ]
  },
  {
   "cell_type": "code",
   "execution_count": 5,
   "metadata": {},
   "outputs": [
    {
     "data": {
      "text/plain": [
       "array([0, 1, 2, 3])"
      ]
     },
     "execution_count": 5,
     "metadata": {},
     "output_type": "execute_result"
    }
   ],
   "source": [
    "numpy.arange(4)"
   ]
  },
  {
   "cell_type": "code",
   "execution_count": 6,
   "metadata": {},
   "outputs": [
    {
     "data": {
      "text/plain": [
       "array([2, 3, 4, 5])"
      ]
     },
     "execution_count": 6,
     "metadata": {},
     "output_type": "execute_result"
    }
   ],
   "source": [
    "numpy.arange(2, 6)"
   ]
  },
  {
   "cell_type": "code",
   "execution_count": 7,
   "metadata": {},
   "outputs": [
    {
     "data": {
      "text/plain": [
       "array([2, 4])"
      ]
     },
     "execution_count": 7,
     "metadata": {},
     "output_type": "execute_result"
    }
   ],
   "source": [
    "numpy.arange(2, 6, 2)"
   ]
  },
  {
   "cell_type": "code",
   "execution_count": 8,
   "metadata": {},
   "outputs": [
    {
     "data": {
      "text/plain": [
       "array([ 2. ,  2.5,  3. ,  3.5,  4. ,  4.5,  5. ,  5.5])"
      ]
     },
     "execution_count": 8,
     "metadata": {},
     "output_type": "execute_result"
    }
   ],
   "source": [
    "numpy.arange(2, 6, 0.5)"
   ]
  },
  {
   "cell_type": "markdown",
   "metadata": {},
   "source": [
    "`numpy.linspace()` is similar to `numpy.arange()`, but uses number of samples instead of a step size. \n",
    "\n",
    "`numpy.linspace()` returns an array with evenly spaced numbers over the specified interval.  \n",
    "\n",
    "*Syntax:*\n",
    "\n",
    "`numpy.linspace(start, stop, num)`\n",
    "\n",
    "`stop` is included by default (it can be removed, read docs) and `num` by default is 50. "
   ]
  },
  {
   "cell_type": "code",
   "execution_count": 9,
   "metadata": {},
   "outputs": [
    {
     "data": {
      "text/plain": [
       "array([ 2.        ,  2.02040816,  2.04081633,  2.06122449,  2.08163265,\n",
       "        2.10204082,  2.12244898,  2.14285714,  2.16326531,  2.18367347,\n",
       "        2.20408163,  2.2244898 ,  2.24489796,  2.26530612,  2.28571429,\n",
       "        2.30612245,  2.32653061,  2.34693878,  2.36734694,  2.3877551 ,\n",
       "        2.40816327,  2.42857143,  2.44897959,  2.46938776,  2.48979592,\n",
       "        2.51020408,  2.53061224,  2.55102041,  2.57142857,  2.59183673,\n",
       "        2.6122449 ,  2.63265306,  2.65306122,  2.67346939,  2.69387755,\n",
       "        2.71428571,  2.73469388,  2.75510204,  2.7755102 ,  2.79591837,\n",
       "        2.81632653,  2.83673469,  2.85714286,  2.87755102,  2.89795918,\n",
       "        2.91836735,  2.93877551,  2.95918367,  2.97959184,  3.        ])"
      ]
     },
     "execution_count": 9,
     "metadata": {},
     "output_type": "execute_result"
    }
   ],
   "source": [
    "numpy.linspace(2.0, 3.0)"
   ]
  },
  {
   "cell_type": "code",
   "execution_count": 10,
   "metadata": {},
   "outputs": [
    {
     "data": {
      "text/plain": [
       "50"
      ]
     },
     "execution_count": 10,
     "metadata": {},
     "output_type": "execute_result"
    }
   ],
   "source": [
    "len(numpy.linspace(2.0, 3.0))"
   ]
  },
  {
   "cell_type": "code",
   "execution_count": 11,
   "metadata": {},
   "outputs": [
    {
     "data": {
      "text/plain": [
       "array([ 2. ,  2.2,  2.4,  2.6,  2.8,  3. ])"
      ]
     },
     "execution_count": 11,
     "metadata": {},
     "output_type": "execute_result"
    }
   ],
   "source": [
    "numpy.linspace(2.0, 3.0, 6)"
   ]
  },
  {
   "cell_type": "code",
   "execution_count": 12,
   "metadata": {},
   "outputs": [
    {
     "data": {
      "text/plain": [
       "array([-1.  , -0.75, -0.5 , -0.25,  0.  ,  0.25,  0.5 ,  0.75,  1.  ])"
      ]
     },
     "execution_count": 12,
     "metadata": {},
     "output_type": "execute_result"
    }
   ],
   "source": [
    "numpy.linspace(-1, 1, 9)"
   ]
  },
  {
   "cell_type": "markdown",
   "metadata": {},
   "source": [
    "Let's assign the arrays to some variables and perform some operations. "
   ]
  },
  {
   "cell_type": "code",
   "execution_count": 13,
   "metadata": {
    "collapsed": true
   },
   "outputs": [],
   "source": [
    "x_array = numpy.linspace(-1, 1, 9)"
   ]
  },
  {
   "cell_type": "markdown",
   "metadata": {
    "collapsed": true
   },
   "source": [
    "Now, we can do some computations with the array. Like rise to the power of 2:"
   ]
  },
  {
   "cell_type": "code",
   "execution_count": 14,
   "metadata": {},
   "outputs": [
    {
     "name": "stdout",
     "output_type": "stream",
     "text": [
      "[ 1.      0.5625  0.25    0.0625  0.      0.0625  0.25    0.5625  1.    ]\n"
     ]
    }
   ],
   "source": [
    "y_array = x_array**2\n",
    "print(y_array)"
   ]
  },
  {
   "cell_type": "markdown",
   "metadata": {},
   "source": [
    "Notice that the operations of raising the `x_array` to the power of 2 returns an array where each element was raise to the power of 2.\n",
    "\n",
    "We can also take the square root of a positive define array, using the `numpy.sqrt()` function:"
   ]
  },
  {
   "cell_type": "code",
   "execution_count": 15,
   "metadata": {},
   "outputs": [
    {
     "name": "stdout",
     "output_type": "stream",
     "text": [
      "[ 1.    0.75  0.5   0.25  0.    0.25  0.5   0.75  1.  ]\n"
     ]
    }
   ],
   "source": [
    "z_array = numpy.sqrt(y_array)\n",
    "print(z_array)"
   ]
  },
  {
   "cell_type": "markdown",
   "metadata": {},
   "source": [
    "Now we have different arrays `x_array`, `y_array` and `z_array`, we can do more computations like add or multiply them. For example:"
   ]
  },
  {
   "cell_type": "code",
   "execution_count": 16,
   "metadata": {},
   "outputs": [
    {
     "name": "stdout",
     "output_type": "stream",
     "text": [
      "[ 0.     -0.1875 -0.25   -0.1875  0.      0.3125  0.75    1.3125  2.    ]\n"
     ]
    }
   ],
   "source": [
    "add_array = x_array + y_array \n",
    "print(add_array)"
   ]
  },
  {
   "cell_type": "markdown",
   "metadata": {},
   "source": [
    "When we add two or more arrays, their element are added element-wise. Same happens if we multiply them:"
   ]
  },
  {
   "cell_type": "code",
   "execution_count": 17,
   "metadata": {},
   "outputs": [
    {
     "name": "stdout",
     "output_type": "stream",
     "text": [
      "[-1.     -0.5625 -0.25   -0.0625  0.      0.0625  0.25    0.5625  1.    ]\n"
     ]
    }
   ],
   "source": [
    "mult_array = x_array * z_array\n",
    "print(mult_array)"
   ]
  },
  {
   "cell_type": "markdown",
   "metadata": {},
   "source": [
    "We can also divide arrays, but you have to be careful in not to divide by zero. This operation will result in a `nan` which stands for *Not a Number*. Python will still perform the division, but will tell us about the problem.  \n",
    "\n",
    "Let's see how this look:"
   ]
  },
  {
   "cell_type": "code",
   "execution_count": 18,
   "metadata": {},
   "outputs": [
    {
     "name": "stderr",
     "output_type": "stream",
     "text": [
      "/home/ncclementi/anaconda3/lib/python3.5/site-packages/ipykernel_launcher.py:1: RuntimeWarning: invalid value encountered in true_divide\n",
      "  \"\"\"Entry point for launching an IPython kernel.\n"
     ]
    },
    {
     "data": {
      "text/plain": [
       "array([-1.        , -1.33333333, -2.        , -4.        ,         nan,\n",
       "        4.        ,  2.        ,  1.33333333,  1.        ])"
      ]
     },
     "execution_count": 18,
     "metadata": {},
     "output_type": "execute_result"
    }
   ],
   "source": [
    "x_array / y_array"
   ]
  },
  {
   "cell_type": "markdown",
   "metadata": {},
   "source": [
    "### Multidimension arrays\n",
    "\n",
    "**2D arrays** \n",
    "\n",
    "In NumPy we can create array of N dimensions.  For example, a 2D array can be:"
   ]
  },
  {
   "cell_type": "code",
   "execution_count": 19,
   "metadata": {},
   "outputs": [
    {
     "name": "stdout",
     "output_type": "stream",
     "text": [
      "[[1 2]\n",
      " [3 4]]\n"
     ]
    }
   ],
   "source": [
    "array_2d = numpy.array([[1, 2], [3, 4]])\n",
    "print(array_2d)"
   ]
  },
  {
   "cell_type": "markdown",
   "metadata": {},
   "source": [
    "We can do operations with 2D arrays too. "
   ]
  },
  {
   "cell_type": "code",
   "execution_count": 20,
   "metadata": {
    "collapsed": true
   },
   "outputs": [],
   "source": [
    "X = numpy.array([[1, 2], [3, 4]])\n",
    "Y = numpy.array([[1, -1], [0, 1]])"
   ]
  },
  {
   "cell_type": "markdown",
   "metadata": {},
   "source": [
    "The addition of these two matrices work exactly as we expect:"
   ]
  },
  {
   "cell_type": "code",
   "execution_count": 21,
   "metadata": {},
   "outputs": [
    {
     "data": {
      "text/plain": [
       "array([[2, 1],\n",
       "       [3, 5]])"
      ]
     },
     "execution_count": 21,
     "metadata": {},
     "output_type": "execute_result"
    }
   ],
   "source": [
    "X + Y"
   ]
  },
  {
   "cell_type": "markdown",
   "metadata": {},
   "source": [
    "What if we try to multiply using the `'*'`operator?"
   ]
  },
  {
   "cell_type": "code",
   "execution_count": 22,
   "metadata": {},
   "outputs": [
    {
     "data": {
      "text/plain": [
       "array([[ 1, -2],\n",
       "       [ 0,  4]])"
      ]
     },
     "execution_count": 22,
     "metadata": {},
     "output_type": "execute_result"
    }
   ],
   "source": [
    "X * Y"
   ]
  },
  {
   "cell_type": "markdown",
   "metadata": {},
   "source": [
    "The multiplication using the `'*'` operator is element-wise. If we want to a matrix multiplication we use the `'@'` operator:"
   ]
  },
  {
   "cell_type": "code",
   "execution_count": 23,
   "metadata": {},
   "outputs": [
    {
     "data": {
      "text/plain": [
       "array([[1, 1],\n",
       "       [3, 1]])"
      ]
     },
     "execution_count": 23,
     "metadata": {},
     "output_type": "execute_result"
    }
   ],
   "source": [
    "X @ Y"
   ]
  },
  {
   "cell_type": "markdown",
   "metadata": {},
   "source": [
    "Or equivalently we can use `numpy.dot()`:"
   ]
  },
  {
   "cell_type": "code",
   "execution_count": 24,
   "metadata": {},
   "outputs": [
    {
     "data": {
      "text/plain": [
       "array([[1, 1],\n",
       "       [3, 1]])"
      ]
     },
     "execution_count": 24,
     "metadata": {},
     "output_type": "execute_result"
    }
   ],
   "source": [
    "numpy.dot(X, Y)"
   ]
  },
  {
   "cell_type": "markdown",
   "metadata": {},
   "source": [
    "**3D arrays**"
   ]
  },
  {
   "cell_type": "markdown",
   "metadata": {},
   "source": [
    "Let's create a 3D array by reshaping a 1D array. We can use [`numpy.reshape()`](https://docs.scipy.org/doc/numpy/reference/generated/numpy.reshape.html), where we pass the array we want to reshape and the shape we want to give. \n",
    "\n",
    "*Syntax*\n",
    " \n",
    "`numpy.reshape(array, newshape)`\n",
    "\n",
    "For example:"
   ]
  },
  {
   "cell_type": "code",
   "execution_count": 25,
   "metadata": {
    "collapsed": true
   },
   "outputs": [],
   "source": [
    "a = numpy.arange(24)"
   ]
  },
  {
   "cell_type": "code",
   "execution_count": 26,
   "metadata": {},
   "outputs": [
    {
     "name": "stdout",
     "output_type": "stream",
     "text": [
      "[[[ 0  1  2  3]\n",
      "  [ 4  5  6  7]\n",
      "  [ 8  9 10 11]]\n",
      "\n",
      " [[12 13 14 15]\n",
      "  [16 17 18 19]\n",
      "  [20 21 22 23]]]\n"
     ]
    }
   ],
   "source": [
    "a_3D = numpy.reshape(a, (2, 3, 4))\n",
    "print(a_3D)"
   ]
  },
  {
   "cell_type": "markdown",
   "metadata": {},
   "source": [
    "We can check for the shape of a numpy array by using the numpy function `shape()`:"
   ]
  },
  {
   "cell_type": "code",
   "execution_count": 27,
   "metadata": {},
   "outputs": [
    {
     "data": {
      "text/plain": [
       "(2, 3, 4)"
      ]
     },
     "execution_count": 27,
     "metadata": {},
     "output_type": "execute_result"
    }
   ],
   "source": [
    "numpy.shape(a_3D)"
   ]
  },
  {
   "cell_type": "markdown",
   "metadata": {},
   "source": [
    "If you are confused about the dimensions of the `a_3D` array, here there is a figure that will help you to understand how the dimensions are assigned:\n",
    "\n",
    "<img src=\"images/3d_array_sketch.png\" style=\"width: 400px;\"/> \n"
   ]
  },
  {
   "cell_type": "markdown",
   "metadata": {
    "collapsed": true
   },
   "source": [
    "When we have multidimension arrays, we can access slices of their elements by slicing per dimension. This is on of the advantages we have when using arrays. We can not do this with lists. \n",
    "\n",
    "Let's access the elments of our `X` 2D array:"
   ]
  },
  {
   "cell_type": "code",
   "execution_count": 28,
   "metadata": {},
   "outputs": [
    {
     "data": {
      "text/plain": [
       "array([[1, 2],\n",
       "       [3, 4]])"
      ]
     },
     "execution_count": 28,
     "metadata": {},
     "output_type": "execute_result"
    }
   ],
   "source": [
    "X"
   ]
  },
  {
   "cell_type": "code",
   "execution_count": 29,
   "metadata": {},
   "outputs": [
    {
     "data": {
      "text/plain": [
       "1"
      ]
     },
     "execution_count": 29,
     "metadata": {},
     "output_type": "execute_result"
    }
   ],
   "source": [
    "# Grab the 1st element of 1st column \n",
    "X[0, 0]"
   ]
  },
  {
   "cell_type": "code",
   "execution_count": 30,
   "metadata": {},
   "outputs": [
    {
     "data": {
      "text/plain": [
       "2"
      ]
     },
     "execution_count": 30,
     "metadata": {},
     "output_type": "execute_result"
    }
   ],
   "source": [
    "# Grab the 1st element of 2nd column \n",
    "X[0, 1]"
   ]
  },
  {
   "cell_type": "markdown",
   "metadata": {},
   "source": [
    "**Exercise:** \n",
    "1. Grab the 2nd element of 1st column.\n",
    "2. Grab the 2nd element of 2nd column"
   ]
  },
  {
   "cell_type": "markdown",
   "metadata": {},
   "source": [
    "Now, we will do slicing on this array:"
   ]
  },
  {
   "cell_type": "code",
   "execution_count": 31,
   "metadata": {},
   "outputs": [
    {
     "data": {
      "text/plain": [
       "array([1, 3])"
      ]
     },
     "execution_count": 31,
     "metadata": {},
     "output_type": "execute_result"
    }
   ],
   "source": [
    "# Grab the 1st column\n",
    "X[:, 0]"
   ]
  },
  {
   "cell_type": "markdown",
   "metadata": {},
   "source": [
    "The symbol `':'` means all. In other words we are telling python that from that dimension collect all the elements."
   ]
  },
  {
   "cell_type": "code",
   "execution_count": 32,
   "metadata": {},
   "outputs": [
    {
     "data": {
      "text/plain": [
       "array([1, 2])"
      ]
     },
     "execution_count": 32,
     "metadata": {},
     "output_type": "execute_result"
    }
   ],
   "source": [
    "# Grab the 1st row\n",
    "X[0, :]"
   ]
  },
  {
   "cell_type": "markdown",
   "metadata": {},
   "source": [
    "**Exercise:** \n",
    "1. Grab the 2nd column.\n",
    "2. Grab the 2nd row."
   ]
  },
  {
   "cell_type": "markdown",
   "metadata": {},
   "source": [
    "Let's practice with a 3D array. "
   ]
  },
  {
   "cell_type": "code",
   "execution_count": 33,
   "metadata": {},
   "outputs": [
    {
     "data": {
      "text/plain": [
       "array([[[ 0,  1,  2,  3],\n",
       "        [ 4,  5,  6,  7],\n",
       "        [ 8,  9, 10, 11]],\n",
       "\n",
       "       [[12, 13, 14, 15],\n",
       "        [16, 17, 18, 19],\n",
       "        [20, 21, 22, 23]]])"
      ]
     },
     "execution_count": 33,
     "metadata": {},
     "output_type": "execute_result"
    }
   ],
   "source": [
    "a_3D"
   ]
  },
  {
   "cell_type": "markdown",
   "metadata": {},
   "source": [
    "If we want to grab the first column of both matrices in our `a_3D` array we do:"
   ]
  },
  {
   "cell_type": "code",
   "execution_count": 34,
   "metadata": {},
   "outputs": [
    {
     "data": {
      "text/plain": [
       "array([[ 0,  4,  8],\n",
       "       [12, 16, 20]])"
      ]
     },
     "execution_count": 34,
     "metadata": {},
     "output_type": "execute_result"
    }
   ],
   "source": [
    "a_3D[:, :, 0]"
   ]
  },
  {
   "cell_type": "markdown",
   "metadata": {},
   "source": [
    "What we are telling python in the line above is:\n",
    "\n",
    "* first `':'` : from the first dimension grab all the elements. (2 matrices)\n",
    "* second `':'`: from the second dimension grab all the elements. (all the rows)\n",
    "* `'0'`       : from the third dimension grab the first element. (first column)"
   ]
  },
  {
   "cell_type": "markdown",
   "metadata": {},
   "source": [
    "If we want the first 2 elements of the first column of both matrices: "
   ]
  },
  {
   "cell_type": "code",
   "execution_count": 35,
   "metadata": {},
   "outputs": [
    {
     "data": {
      "text/plain": [
       "array([[ 0,  4],\n",
       "       [12, 16]])"
      ]
     },
     "execution_count": 35,
     "metadata": {},
     "output_type": "execute_result"
    }
   ],
   "source": [
    "a_3D[:, 0:2, 0]"
   ]
  },
  {
   "cell_type": "markdown",
   "metadata": {},
   "source": [
    "From the first matrix in our `a_3D` array, we will grab the two middle elements (5,6):"
   ]
  },
  {
   "cell_type": "code",
   "execution_count": 36,
   "metadata": {},
   "outputs": [
    {
     "data": {
      "text/plain": [
       "array([5, 6])"
      ]
     },
     "execution_count": 36,
     "metadata": {},
     "output_type": "execute_result"
    }
   ],
   "source": [
    "a_3D[0, 1, 1:3]"
   ]
  },
  {
   "cell_type": "markdown",
   "metadata": {},
   "source": [
    "**Exercise:** From the `a_3D` array: \n",
    "1. Grab the two middle elements (17, 18) from the second matrix.\n",
    "2. Grab the last row from both matrices.\n",
    "3. Grab the elements of the 1st matrix that exclude the first row and the first column. \n",
    "4. Grab the elements of the 2nd matrix that exclude the last row and the last column. "
   ]
  },
  {
   "cell_type": "markdown",
   "metadata": {},
   "source": [
    "## Numpy == Fast and Clean! \n",
    "\n",
    "When we are working with numbers, arrays are a better option because the NumPy library has built-in functions that are optimized, and therefore faster than vanilla Python. Specially, if we have big arrays. Besides, using NumPy arrays and exploiting their properties, make our code more readable.\n",
    "\n",
    "For example, if we want to add element-wise the elements of 2 lists, we need to write a for loop. Meanwhile, if we want to add two NumPy arrays, we just use the addtion `'+'` symbol.\n"
   ]
  },
  {
   "cell_type": "markdown",
   "metadata": {},
   "source": [
    "### Lists element-wise sum."
   ]
  },
  {
   "cell_type": "code",
   "execution_count": 37,
   "metadata": {
    "collapsed": true
   },
   "outputs": [],
   "source": [
    "#import random library\n",
    "import random"
   ]
  },
  {
   "cell_type": "markdown",
   "metadata": {},
   "source": [
    "Using the random library we generate two random lists with 100 elements in the range [0,100), with no numbers repeated (pseudo-random)"
   ]
  },
  {
   "cell_type": "code",
   "execution_count": 38,
   "metadata": {
    "collapsed": true
   },
   "outputs": [],
   "source": [
    "\n",
    "lst_1 = random.sample(range(100), 100)\n",
    "lst_2 = random.sample(range(100), 100)"
   ]
  },
  {
   "cell_type": "code",
   "execution_count": 39,
   "metadata": {},
   "outputs": [
    {
     "name": "stdout",
     "output_type": "stream",
     "text": [
      "[23, 54, 46, 26, 89, 96, 77, 38, 97, 29]\n",
      "[45, 51, 65, 84, 29, 2, 95, 14, 22, 34]\n"
     ]
    }
   ],
   "source": [
    "#print first 10 elements\n",
    "print(lst_1[0:10])\n",
    "print(lst_2[0:10])"
   ]
  },
  {
   "cell_type": "markdown",
   "metadata": {},
   "source": [
    "We have two lists of one hundred elements, we want to sum them element-wise and time this execution. We will write a for loop and append the result of the element-wise sum into a list called `result_lst`. For timing, we will use the IPython magics `%%time`. Wrting at the beginning of the cell the command `%%time` will compute the time for all the code in that cell. "
   ]
  },
  {
   "cell_type": "code",
   "execution_count": 40,
   "metadata": {},
   "outputs": [
    {
     "name": "stdout",
     "output_type": "stream",
     "text": [
      "CPU times: user 0 ns, sys: 0 ns, total: 0 ns\n",
      "Wall time: 138 µs\n"
     ]
    }
   ],
   "source": [
    "%%time\n",
    "res_lst = []\n",
    "for i in range(100):\n",
    "    res_lst.append(lst_1[i] + lst_2[i])"
   ]
  },
  {
   "cell_type": "code",
   "execution_count": 41,
   "metadata": {},
   "outputs": [
    {
     "name": "stdout",
     "output_type": "stream",
     "text": [
      "[68, 105, 111, 110, 118, 98, 172, 52, 119, 63]\n"
     ]
    }
   ],
   "source": [
    "print(res_lst[0:10])"
   ]
  },
  {
   "cell_type": "markdown",
   "metadata": {},
   "source": [
    "### NumPy arrays element-wise sum.\n",
    "\n",
    "In this case to generate random arrays, we will use the NumPy function `numpy.random.randint()`. The arrays we generate with this function are not going to be like the lists, in this case we will have 100 elements that will be picked from the range [0, 100) but in this case they can be repeated. For our purpose, the only thing thata matters is that the arrays and the lists are of the same length and type (integers)."
   ]
  },
  {
   "cell_type": "code",
   "execution_count": 42,
   "metadata": {
    "collapsed": true
   },
   "outputs": [],
   "source": [
    "arr_1 = numpy.random.randint(0, 100, size=100)\n",
    "arr_2 = numpy.random.randint(0, 100, size=100)"
   ]
  },
  {
   "cell_type": "code",
   "execution_count": 43,
   "metadata": {},
   "outputs": [
    {
     "name": "stdout",
     "output_type": "stream",
     "text": [
      "[44 51 94 13 87 17 77 17 17 86]\n",
      "[85 75 14 79 84 31 42 69 53 75]\n"
     ]
    }
   ],
   "source": [
    "#print first 10 elements\n",
    "print(arr_1[0:10])\n",
    "print(arr_2[0:10])"
   ]
  },
  {
   "cell_type": "code",
   "execution_count": 44,
   "metadata": {},
   "outputs": [
    {
     "name": "stdout",
     "output_type": "stream",
     "text": [
      "CPU times: user 0 ns, sys: 0 ns, total: 0 ns\n",
      "Wall time: 34.3 µs\n"
     ]
    }
   ],
   "source": [
    "%%time\n",
    "arr_res = arr_1 + arr_2"
   ]
  },
  {
   "cell_type": "markdown",
   "metadata": {},
   "source": [
    "Notice that in the case of arrays, the code not only is more readable (just one line of code), but it is also faster than in the case of lists. This gap in time is bigger when we increased the size of our arrays/lists. "
   ]
  },
  {
   "cell_type": "markdown",
   "metadata": {},
   "source": [
    "**Exercise:** \n",
    "\n",
    "1. Try the comparison between lists and arrays, using a bigger size of arrays, for example 10000. \n",
    "2. Repeat the analysis but now computing the operation that elevetas each element of an array/list to the power of two. "
   ]
  },
  {
   "cell_type": "markdown",
   "metadata": {},
   "source": [
    "## Time to Plot\n",
    "\n",
    "In this section we introduce the python library **Matplotlib** and its module `pyplot`, that will allow us to plot. \n",
    "\n",
    "First, we need something to plot. We will define a NumPy array, compute some of its power and then plot these relationships. "
   ]
  },
  {
   "cell_type": "code",
   "execution_count": 45,
   "metadata": {},
   "outputs": [
    {
     "name": "stdout",
     "output_type": "stream",
     "text": [
      "[ 0.    0.05  0.1   0.15  0.2   0.25  0.3   0.35  0.4   0.45  0.5   0.55\n",
      "  0.6   0.65  0.7   0.75  0.8   0.85  0.9   0.95  1.    1.05  1.1   1.15\n",
      "  1.2   1.25  1.3   1.35  1.4   1.45  1.5   1.55  1.6   1.65  1.7   1.75\n",
      "  1.8   1.85  1.9   1.95  2.  ]\n"
     ]
    }
   ],
   "source": [
    "xarray = numpy.linspace(0, 2, 41)\n",
    "print(xarray)"
   ]
  },
  {
   "cell_type": "code",
   "execution_count": 46,
   "metadata": {
    "collapsed": true
   },
   "outputs": [],
   "source": [
    "pow2 = xarray**2\n",
    "pow3 = xarray**3\n",
    "pow_half = numpy.sqrt(xarray)"
   ]
  },
  {
   "cell_type": "markdown",
   "metadata": {},
   "source": [
    "To plot the resulting arrays as a function of the orginal one (`xarray`) in the x-axis, we need to import the module `pyplot` from **Matplotlib**."
   ]
  },
  {
   "cell_type": "code",
   "execution_count": 56,
   "metadata": {
    "collapsed": true
   },
   "outputs": [],
   "source": [
    "from matplotlib import pyplot\n",
    "% matplotlib inline"
   ]
  },
  {
   "cell_type": "markdown",
   "metadata": {},
   "source": [
    "The command `%matplotlib inline` is there to get our plots inside the notebook (instead of a pop-up window, which is the default behavior of `pyplot`). \n",
    "\n",
    "We use the `pyplot.plot()` function, specifying the line color (`'k'` for black) and line style (`'-'`, `'--'` and `':'` for continuous, dashed and dotted line), and giving each line a label. Note that the values for `color`, `linestyle` and `label` are given in quotes."
   ]
  },
  {
   "cell_type": "code",
   "execution_count": 57,
   "metadata": {},
   "outputs": [
    {
     "data": {
      "text/plain": [
       "<matplotlib.legend.Legend at 0x7f53f2c3d828>"
      ]
     },
     "execution_count": 57,
     "metadata": {},
     "output_type": "execute_result"
    },
    {
     "data": {
      "image/png": "[encoded data removed]",
      "text/plain": [
       "<matplotlib.figure.Figure at 0x7f53f2e790b8>"
      ]
     },
     "metadata": {},
     "output_type": "display_data"
    }
   ],
   "source": [
    "#Plot x^2\n",
    "pyplot.plot(xarray,pow2,color='k',linestyle='-', label='square')\n",
    "#Plot x^3\n",
    "pyplot.plot(xarray,pow3,color='k',linestyle='--', label='cube')\n",
    "#Plot sqrt(x)\n",
    "pyplot.plot(xarray,pow_half,color='k',linestyle=':', label='square root')\n",
    "#Plot the legends in the best location\n",
    "pyplot.legend(loc='best')"
   ]
  },
  {
   "cell_type": "markdown",
   "metadata": {},
   "source": [
    "If we want to interact with the plot, instead of using the command `%matplotlib notebook`. To illustarte this, we will plot the same than before but now changing the colors instead of the line style. Moreover, we will use some simple LaTeX syntax to write formulas in the labels. If you want to know more about LaTeX syntax, there is a [quick guide to LaTeX](https://users.dickinson.edu/~richesod/latex/latexcheatsheet.pdf) available online."
   ]
  },
  {
   "cell_type": "code",
   "execution_count": 58,
   "metadata": {
    "collapsed": true
   },
   "outputs": [],
   "source": [
    "% matplotlib notebook"
   ]
  },
  {
   "cell_type": "code",
   "execution_count": 59,
   "metadata": {},
   "outputs": [
    {
     "data": {
      "application/javascript": [
       "/* Put everything inside the global mpl namespace */\n",
       "window.mpl = {};\n",
       "\n",
       "\n",
       "mpl.get_websocket_type = function() {\n",
       "    if (typeof(WebSocket) !== 'undefined') {\n",
       "        return WebSocket;\n",
       "    } else if (typeof(MozWebSocket) !== 'undefined') {\n",
       "        return MozWebSocket;\n",
       "    } else {\n",
       "        alert('Your browser does not have WebSocket support.' +\n",
       "              'Please try Chrome, Safari or Firefox ≥ 6. ' +\n",
       "              'Firefox 4 and 5 are also supported but you ' +\n",
       "              'have to enable WebSockets in about:config.');\n",
       "    };\n",
       "}\n",
       "\n",
       "mpl.figure = function(figure_id, websocket, ondownload, parent_element) {\n",
       "    this.id = figure_id;\n",
       "\n",
       "    this.ws = websocket;\n",
       "\n",
       "    this.supports_binary = (this.ws.binaryType != undefined);\n",
       "\n",
       "    if (!this.supports_binary) {\n",
       "        var warnings = document.getElementById(\"mpl-warnings\");\n",
       "        if (warnings) {\n",
       "            warnings.style.display = 'block';\n",
       "            warnings.textContent = (\n",
       "                \"This browser does not support binary websocket messages. \" +\n",
       "                    \"Performance may be slow.\");\n",
       "        }\n",
       "    }\n",
       "\n",
       "    this.imageObj = new Image();\n",
       "\n",
       "    this.context = undefined;\n",
       "    this.message = undefined;\n",
       "    this.canvas = undefined;\n",
       "    this.rubberband_canvas = undefined;\n",
       "    this.rubberband_context = undefined;\n",
       "    this.format_dropdown = undefined;\n",
       "\n",
       "    this.image_mode = 'full';\n",
       "\n",
       "    this.root = $('<div/>');\n",
       "    this._root_extra_style(this.root)\n",
       "    this.root.attr('style', 'display: inline-block');\n",
       "\n",
       "    $(parent_element).append(this.root);\n",
       "\n",
       "    this._init_header(this);\n",
       "    this._init_canvas(this);\n",
       "    this._init_toolbar(this);\n",
       "\n",
       "    var fig = this;\n",
       "\n",
       "    this.waiting = false;\n",
       "\n",
       "    this.ws.onopen =  function () {\n",
       "            fig.send_message(\"supports_binary\", {value: fig.supports_binary});\n",
       "            fig.send_message(\"send_image_mode\", {});\n",
       "            if (mpl.ratio != 1) {\n",
       "                fig.send_message(\"set_dpi_ratio\", {'dpi_ratio': mpl.ratio});\n",
       "            }\n",
       "            fig.send_message(\"refresh\", {});\n",
       "        }\n",
       "\n",
       "    this.imageObj.onload = function() {\n",
       "            if (fig.image_mode == 'full') {\n",
       "                // Full images could contain transparency (where diff images\n",
       "                // almost always do), so we need to clear the canvas so that\n",
       "                // there is no ghosting.\n",
       "                fig.context.clearRect(0, 0, fig.canvas.width, fig.canvas.height);\n",
       "            }\n",
       "            fig.context.drawImage(fig.imageObj, 0, 0);\n",
       "        };\n",
       "\n",
       "    this.imageObj.onunload = function() {\n",
       "        this.ws.close();\n",
       "    }\n",
       "\n",
       "    this.ws.onmessage = this._make_on_message_function(this);\n",
       "\n",
       "    this.ondownload = ondownload;\n",
       "}\n",
       "\n",
       "mpl.figure.prototype._init_header = function() {\n",
       "    var titlebar = $(\n",
       "        '<div class=\"ui-dialog-titlebar ui-widget-header ui-corner-all ' +\n",
       "        'ui-helper-clearfix\"/>');\n",
       "    var titletext = $(\n",
       "        '<div class=\"ui-dialog-title\" style=\"width: 100%; ' +\n",
       "        'text-align: center; padding: 3px;\"/>');\n",
       "    titlebar.append(titletext)\n",
       "    this.root.append(titlebar);\n",
       "    this.header = titletext[0];\n",
       "}\n",
       "\n",
       "\n",
       "\n",
       "mpl.figure.prototype._canvas_extra_style = function(canvas_div) {\n",
       "\n",
       "}\n",
       "\n",
       "\n",
       "mpl.figure.prototype._root_extra_style = function(canvas_div) {\n",
       "\n",
       "}\n",
       "\n",
       "mpl.figure.prototype._init_canvas = function() {\n",
       "    var fig = this;\n",
       "\n",
       "    var canvas_div = $('<div/>');\n",
       "\n",
       "    canvas_div.attr('style', 'position: relative; clear: both; outline: 0');\n",
       "\n",
       "    function canvas_keyboard_event(event) {\n",
       "        return fig.key_event(event, event['data']);\n",
       "    }\n",
       "\n",
       "    canvas_div.keydown('key_press', canvas_keyboard_event);\n",
       "    canvas_div.keyup('key_release', canvas_keyboard_event);\n",
       "    this.canvas_div = canvas_div\n",
       "    this._canvas_extra_style(canvas_div)\n",
       "    this.root.append(canvas_div);\n",
       "\n",
       "    var canvas = $('<canvas/>');\n",
       "    canvas.addClass('mpl-canvas');\n",
       "    canvas.attr('style', \"left: 0; top: 0; z-index: 0; outline: 0\")\n",
       "\n",
       "    this.canvas = canvas[0];\n",
       "    this.context = canvas[0].getContext(\"2d\");\n",
       "\n",
       "    var backingStore = this.context.backingStorePixelRatio ||\n",
       "\tthis.context.webkitBackingStorePixelRatio ||\n",
       "\tthis.context.mozBackingStorePixelRatio ||\n",
       "\tthis.context.msBackingStorePixelRatio ||\n",
       "\tthis.context.oBackingStorePixelRatio ||\n",
       "\tthis.context.backingStorePixelRatio || 1;\n",
       "\n",
       "    mpl.ratio = (window.devicePixelRatio || 1) / backingStore;\n",
       "\n",
       "    var rubberband = $('<canvas/>');\n",
       "    rubberband.attr('style', \"position: absolute; left: 0; top: 0; z-index: 1;\")\n",
       "\n",
       "    var pass_mouse_events = true;\n",
       "\n",
       "    canvas_div.resizable({\n",
       "        start: function(event, ui) {\n",
       "            pass_mouse_events = false;\n",
       "        },\n",
       "        resize: function(event, ui) {\n",
       "            fig.request_resize(ui.size.width, ui.size.height);\n",
       "        },\n",
       "        stop: function(event, ui) {\n",
       "            pass_mouse_events = true;\n",
       "            fig.request_resize(ui.size.width, ui.size.height);\n",
       "        },\n",
       "    });\n",
       "\n",
       "    function mouse_event_fn(event) {\n",
       "        if (pass_mouse_events)\n",
       "            return fig.mouse_event(event, event['data']);\n",
       "    }\n",
       "\n",
       "    rubberband.mousedown('button_press', mouse_event_fn);\n",
       "    rubberband.mouseup('button_release', mouse_event_fn);\n",
       "    // Throttle sequential mouse events to 1 every 20ms.\n",
       "    rubberband.mousemove('motion_notify', mouse_event_fn);\n",
       "\n",
       "    rubberband.mouseenter('figure_enter', mouse_event_fn);\n",
       "    rubberband.mouseleave('figure_leave', mouse_event_fn);\n",
       "\n",
       "    canvas_div.on(\"wheel\", function (event) {\n",
       "        event = event.originalEvent;\n",
       "        event['data'] = 'scroll'\n",
       "        if (event.deltaY < 0) {\n",
       "            event.step = 1;\n",
       "        } else {\n",
       "            event.step = -1;\n",
       "        }\n",
       "        mouse_event_fn(event);\n",
       "    });\n",
       "\n",
       "    canvas_div.append(canvas);\n",
       "    canvas_div.append(rubberband);\n",
       "\n",
       "    this.rubberband = rubberband;\n",
       "    this.rubberband_canvas = rubberband[0];\n",
       "    this.rubberband_context = rubberband[0].getContext(\"2d\");\n",
       "    this.rubberband_context.strokeStyle = \"#000000\";\n",
       "\n",
       "    this._resize_canvas = function(width, height) {\n",
       "        // Keep the size of the canvas, canvas container, and rubber band\n",
       "        // canvas in synch.\n",
       "        canvas_div.css('width', width)\n",
       "        canvas_div.css('height', height)\n",
       "\n",
       "        canvas.attr('width', width * mpl.ratio);\n",
       "        canvas.attr('height', height * mpl.ratio);\n",
       "        canvas.attr('style', 'width: ' + width + 'px; height: ' + height + 'px;');\n",
       "\n",
       "        rubberband.attr('width', width);\n",
       "        rubberband.attr('height', height);\n",
       "    }\n",
       "\n",
       "    // Set the figure to an initial 600x600px, this will subsequently be updated\n",
       "    // upon first draw.\n",
       "    this._resize_canvas(600, 600);\n",
       "\n",
       "    // Disable right mouse context menu.\n",
       "    $(this.rubberband_canvas).bind(\"contextmenu\",function(e){\n",
       "        return false;\n",
       "    });\n",
       "\n",
       "    function set_focus () {\n",
       "        canvas.focus();\n",
       "        canvas_div.focus();\n",
       "    }\n",
       "\n",
       "    window.setTimeout(set_focus, 100);\n",
       "}\n",
       "\n",
       "mpl.figure.prototype._init_toolbar = function() {\n",
       "    var fig = this;\n",
       "\n",
       "    var nav_element = $('<div/>')\n",
       "    nav_element.attr('style', 'width: 100%');\n",
       "    this.root.append(nav_element);\n",
       "\n",
       "    // Define a callback function for later on.\n",
       "    function toolbar_event(event) {\n",
       "        return fig.toolbar_button_onclick(event['data']);\n",
       "    }\n",
       "    function toolbar_mouse_event(event) {\n",
       "        return fig.toolbar_button_onmouseover(event['data']);\n",
       "    }\n",
       "\n",
       "    for(var toolbar_ind in mpl.toolbar_items) {\n",
       "        var name = mpl.toolbar_items[toolbar_ind][0];\n",
       "        var tooltip = mpl.toolbar_items[toolbar_ind][1];\n",
       "        var image = mpl.toolbar_items[toolbar_ind][2];\n",
       "        var method_name = mpl.toolbar_items[toolbar_ind][3];\n",
       "\n",
       "        if (!name) {\n",
       "            // put a spacer in here.\n",
       "            continue;\n",
       "        }\n",
       "        var button = $('<button/>');\n",
       "        button.addClass('ui-button ui-widget ui-state-default ui-corner-all ' +\n",
       "                        'ui-button-icon-only');\n",
       "        button.attr('role', 'button');\n",
       "        button.attr('aria-disabled', 'false');\n",
       "        button.click(method_name, toolbar_event);\n",
       "        button.mouseover(tooltip, toolbar_mouse_event);\n",
       "\n",
       "        var icon_img = $('<span/>');\n",
       "        icon_img.addClass('ui-button-icon-primary ui-icon');\n",
       "        icon_img.addClass(image);\n",
       "        icon_img.addClass('ui-corner-all');\n",
       "\n",
       "        var tooltip_span = $('<span/>');\n",
       "        tooltip_span.addClass('ui-button-text');\n",
       "        tooltip_span.html(tooltip);\n",
       "\n",
       "        button.append(icon_img);\n",
       "        button.append(tooltip_span);\n",
       "\n",
       "        nav_element.append(button);\n",
       "    }\n",
       "\n",
       "    var fmt_picker_span = $('<span/>');\n",
       "\n",
       "    var fmt_picker = $('<select/>');\n",
       "    fmt_picker.addClass('mpl-toolbar-option ui-widget ui-widget-content');\n",
       "    fmt_picker_span.append(fmt_picker);\n",
       "    nav_element.append(fmt_picker_span);\n",
       "    this.format_dropdown = fmt_picker[0];\n",
       "\n",
       "    for (var ind in mpl.extensions) {\n",
       "        var fmt = mpl.extensions[ind];\n",
       "        var option = $(\n",
       "            '<option/>', {selected: fmt === mpl.default_extension}).html(fmt);\n",
       "        fmt_picker.append(option)\n",
       "    }\n",
       "\n",
       "    // Add hover states to the ui-buttons\n",
       "    $( \".ui-button\" ).hover(\n",
       "        function() { $(this).addClass(\"ui-state-hover\");},\n",
       "        function() { $(this).removeClass(\"ui-state-hover\");}\n",
       "    );\n",
       "\n",
       "    var status_bar = $('<span class=\"mpl-message\"/>');\n",
       "    nav_element.append(status_bar);\n",
       "    this.message = status_bar[0];\n",
       "}\n",
       "\n",
       "mpl.figure.prototype.request_resize = function(x_pixels, y_pixels) {\n",
       "    // Request matplotlib to resize the figure. Matplotlib will then trigger a resize in the client,\n",
       "    // which will in turn request a refresh of the image.\n",
       "    this.send_message('resize', {'width': x_pixels, 'height': y_pixels});\n",
       "}\n",
       "\n",
       "mpl.figure.prototype.send_message = function(type, properties) {\n",
       "    properties['type'] = type;\n",
       "    properties['figure_id'] = this.id;\n",
       "    this.ws.send(JSON.stringify(properties));\n",
       "}\n",
       "\n",
       "mpl.figure.prototype.send_draw_message = function() {\n",
       "    if (!this.waiting) {\n",
       "        this.waiting = true;\n",
       "        this.ws.send(JSON.stringify({type: \"draw\", figure_id: this.id}));\n",
       "    }\n",
       "}\n",
       "\n",
       "\n",
       "mpl.figure.prototype.handle_save = function(fig, msg) {\n",
       "    var format_dropdown = fig.format_dropdown;\n",
       "    var format = format_dropdown.options[format_dropdown.selectedIndex].value;\n",
       "    fig.ondownload(fig, format);\n",
       "}\n",
       "\n",
       "\n",
       "mpl.figure.prototype.handle_resize = function(fig, msg) {\n",
       "    var size = msg['size'];\n",
       "    if (size[0] != fig.canvas.width || size[1] != fig.canvas.height) {\n",
       "        fig._resize_canvas(size[0], size[1]);\n",
       "        fig.send_message(\"refresh\", {});\n",
       "    };\n",
       "}\n",
       "\n",
       "mpl.figure.prototype.handle_rubberband = function(fig, msg) {\n",
       "    var x0 = msg['x0'] / mpl.ratio;\n",
       "    var y0 = (fig.canvas.height - msg['y0']) / mpl.ratio;\n",
       "    var x1 = msg['x1'] / mpl.ratio;\n",
       "    var y1 = (fig.canvas.height - msg['y1']) / mpl.ratio;\n",
       "    x0 = Math.floor(x0) + 0.5;\n",
       "    y0 = Math.floor(y0) + 0.5;\n",
       "    x1 = Math.floor(x1) + 0.5;\n",
       "    y1 = Math.floor(y1) + 0.5;\n",
       "    var min_x = Math.min(x0, x1);\n",
       "    var min_y = Math.min(y0, y1);\n",
       "    var width = Math.abs(x1 - x0);\n",
       "    var height = Math.abs(y1 - y0);\n",
       "\n",
       "    fig.rubberband_context.clearRect(\n",
       "        0, 0, fig.canvas.width, fig.canvas.height);\n",
       "\n",
       "    fig.rubberband_context.strokeRect(min_x, min_y, width, height);\n",
       "}\n",
       "\n",
       "mpl.figure.prototype.handle_figure_label = function(fig, msg) {\n",
       "    // Updates the figure title.\n",
       "    fig.header.textContent = msg['label'];\n",
       "}\n",
       "\n",
       "mpl.figure.prototype.handle_cursor = function(fig, msg) {\n",
       "    var cursor = msg['cursor'];\n",
       "    switch(cursor)\n",
       "    {\n",
       "    case 0:\n",
       "        cursor = 'pointer';\n",
       "        break;\n",
       "    case 1:\n",
       "        cursor = 'default';\n",
       "        break;\n",
       "    case 2:\n",
       "        cursor = 'crosshair';\n",
       "        break;\n",
       "    case 3:\n",
       "        cursor = 'move';\n",
       "        break;\n",
       "    }\n",
       "    fig.rubberband_canvas.style.cursor = cursor;\n",
       "}\n",
       "\n",
       "mpl.figure.prototype.handle_message = function(fig, msg) {\n",
       "    fig.message.textContent = msg['message'];\n",
       "}\n",
       "\n",
       "mpl.figure.prototype.handle_draw = function(fig, msg) {\n",
       "    // Request the server to send over a new figure.\n",
       "    fig.send_draw_message();\n",
       "}\n",
       "\n",
       "mpl.figure.prototype.handle_image_mode = function(fig, msg) {\n",
       "    fig.image_mode = msg['mode'];\n",
       "}\n",
       "\n",
       "mpl.figure.prototype.updated_canvas_event = function() {\n",
       "    // Called whenever the canvas gets updated.\n",
       "    this.send_message(\"ack\", {});\n",
       "}\n",
       "\n",
       "// A function to construct a web socket function for onmessage handling.\n",
       "// Called in the figure constructor.\n",
       "mpl.figure.prototype._make_on_message_function = function(fig) {\n",
       "    return function socket_on_message(evt) {\n",
       "        if (evt.data instanceof Blob) {\n",
       "            /* FIXME: We get \"Resource interpreted as Image but\n",
       "             * transferred with MIME type text/plain:\" errors on\n",
       "             * Chrome.  But how to set the MIME type?  It doesn't seem\n",
       "             * to be part of the websocket stream */\n",
       "            evt.data.type = \"image/png\";\n",
       "\n",
       "            /* Free the memory for the previous frames */\n",
       "            if (fig.imageObj.src) {\n",
       "                (window.URL || window.webkitURL).revokeObjectURL(\n",
       "                    fig.imageObj.src);\n",
       "            }\n",
       "\n",
       "            fig.imageObj.src = (window.URL || window.webkitURL).createObjectURL(\n",
       "                evt.data);\n",
       "            fig.updated_canvas_event();\n",
       "            fig.waiting = false;\n",
       "            return;\n",
       "        }\n",
       "        else if (typeof evt.data === 'string' && evt.data.slice(0, 21) == \"data:image/png;base64\") {\n",
       "            fig.imageObj.src = evt.data;\n",
       "            fig.updated_canvas_event();\n",
       "            fig.waiting = false;\n",
       "            return;\n",
       "        }\n",
       "\n",
       "        var msg = JSON.parse(evt.data);\n",
       "        var msg_type = msg['type'];\n",
       "\n",
       "        // Call the  \"handle_{type}\" callback, which takes\n",
       "        // the figure and JSON message as its only arguments.\n",
       "        try {\n",
       "            var callback = fig[\"handle_\" + msg_type];\n",
       "        } catch (e) {\n",
       "            console.log(\"No handler for the '\" + msg_type + \"' message type: \", msg);\n",
       "            return;\n",
       "        }\n",
       "\n",
       "        if (callback) {\n",
       "            try {\n",
       "                // console.log(\"Handling '\" + msg_type + \"' message: \", msg);\n",
       "                callback(fig, msg);\n",
       "            } catch (e) {\n",
       "                console.log(\"Exception inside the 'handler_\" + msg_type + \"' callback:\", e, e.stack, msg);\n",
       "            }\n",
       "        }\n",
       "    };\n",
       "}\n",
       "\n",
       "// from http://stackoverflow.com/questions/1114465/getting-mouse-location-in-canvas\n",
       "mpl.findpos = function(e) {\n",
       "    //this section is from http://www.quirksmode.org/js/events_properties.html\n",
       "    var targ;\n",
       "    if (!e)\n",
       "        e = window.event;\n",
       "    if (e.target)\n",
       "        targ = e.target;\n",
       "    else if (e.srcElement)\n",
       "        targ = e.srcElement;\n",
       "    if (targ.nodeType == 3) // defeat Safari bug\n",
       "        targ = targ.parentNode;\n",
       "\n",
       "    // jQuery normalizes the pageX and pageY\n",
       "    // pageX,Y are the mouse positions relative to the document\n",
       "    // offset() returns the position of the element relative to the document\n",
       "    var x = e.pageX - $(targ).offset().left;\n",
       "    var y = e.pageY - $(targ).offset().top;\n",
       "\n",
       "    return {\"x\": x, \"y\": y};\n",
       "};\n",
       "\n",
       "/*\n",
       " * return a copy of an object with only non-object keys\n",
       " * we need this to avoid circular references\n",
       " * http://stackoverflow.com/a/24161582/3208463\n",
       " */\n",
       "function simpleKeys (original) {\n",
       "  return Object.keys(original).reduce(function (obj, key) {\n",
       "    if (typeof original[key] !== 'object')\n",
       "        obj[key] = original[key]\n",
       "    return obj;\n",
       "  }, {});\n",
       "}\n",
       "\n",
       "mpl.figure.prototype.mouse_event = function(event, name) {\n",
       "    var canvas_pos = mpl.findpos(event)\n",
       "\n",
       "    if (name === 'button_press')\n",
       "    {\n",
       "        this.canvas.focus();\n",
       "        this.canvas_div.focus();\n",
       "    }\n",
       "\n",
       "    var x = canvas_pos.x * mpl.ratio;\n",
       "    var y = canvas_pos.y * mpl.ratio;\n",
       "\n",
       "    this.send_message(name, {x: x, y: y, button: event.button,\n",
       "                             step: event.step,\n",
       "                             guiEvent: simpleKeys(event)});\n",
       "\n",
       "    /* This prevents the web browser from automatically changing to\n",
       "     * the text insertion cursor when the button is pressed.  We want\n",
       "     * to control all of the cursor setting manually through the\n",
       "     * 'cursor' event from matplotlib */\n",
       "    event.preventDefault();\n",
       "    return false;\n",
       "}\n",
       "\n",
       "mpl.figure.prototype._key_event_extra = function(event, name) {\n",
       "    // Handle any extra behaviour associated with a key event\n",
       "}\n",
       "\n",
       "mpl.figure.prototype.key_event = function(event, name) {\n",
       "\n",
       "    // Prevent repeat events\n",
       "    if (name == 'key_press')\n",
       "    {\n",
       "        if (event.which === this._key)\n",
       "            return;\n",
       "        else\n",
       "            this._key = event.which;\n",
       "    }\n",
       "    if (name == 'key_release')\n",
       "        this._key = null;\n",
       "\n",
       "    var value = '';\n",
       "    if (event.ctrlKey && event.which != 17)\n",
       "        value += \"ctrl+\";\n",
       "    if (event.altKey && event.which != 18)\n",
       "        value += \"alt+\";\n",
       "    if (event.shiftKey && event.which != 16)\n",
       "        value += \"shift+\";\n",
       "\n",
       "    value += 'k';\n",
       "    value += event.which.toString();\n",
       "\n",
       "    this._key_event_extra(event, name);\n",
       "\n",
       "    this.send_message(name, {key: value,\n",
       "                             guiEvent: simpleKeys(event)});\n",
       "    return false;\n",
       "}\n",
       "\n",
       "mpl.figure.prototype.toolbar_button_onclick = function(name) {\n",
       "    if (name == 'download') {\n",
       "        this.handle_save(this, null);\n",
       "    } else {\n",
       "        this.send_message(\"toolbar_button\", {name: name});\n",
       "    }\n",
       "};\n",
       "\n",
       "mpl.figure.prototype.toolbar_button_onmouseover = function(tooltip) {\n",
       "    this.message.textContent = tooltip;\n",
       "};\n",
       "mpl.toolbar_items = [[\"Home\", \"Reset original view\", \"fa fa-home icon-home\", \"home\"], [\"Back\", \"Back to  previous view\", \"fa fa-arrow-left icon-arrow-left\", \"back\"], [\"Forward\", \"Forward to next view\", \"fa fa-arrow-right icon-arrow-right\", \"forward\"], [\"\", \"\", \"\", \"\"], [\"Pan\", \"Pan axes with left mouse, zoom with right\", \"fa fa-arrows icon-move\", \"pan\"], [\"Zoom\", \"Zoom to rectangle\", \"fa fa-square-o icon-check-empty\", \"zoom\"], [\"\", \"\", \"\", \"\"], [\"Download\", \"Download plot\", \"fa fa-floppy-o icon-save\", \"download\"]];\n",
       "\n",
       "mpl.extensions = [\"eps\", \"jpeg\", \"pdf\", \"png\", \"ps\", \"raw\", \"svg\", \"tif\"];\n",
       "\n",
       "mpl.default_extension = \"png\";var comm_websocket_adapter = function(comm) {\n",
       "    // Create a \"websocket\"-like object which calls the given IPython comm\n",
       "    // object with the appropriate methods. Currently this is a non binary\n",
       "    // socket, so there is still some room for performance tuning.\n",
       "    var ws = {};\n",
       "\n",
       "    ws.close = function() {\n",
       "        comm.close()\n",
       "    };\n",
       "    ws.send = function(m) {\n",
       "        //console.log('sending', m);\n",
       "        comm.send(m);\n",
       "    };\n",
       "    // Register the callback with on_msg.\n",
       "    comm.on_msg(function(msg) {\n",
       "        //console.log('receiving', msg['content']['data'], msg);\n",
       "        // Pass the mpl event to the overriden (by mpl) onmessage function.\n",
       "        ws.onmessage(msg['content']['data'])\n",
       "    });\n",
       "    return ws;\n",
       "}\n",
       "\n",
       "mpl.mpl_figure_comm = function(comm, msg) {\n",
       "    // This is the function which gets called when the mpl process\n",
       "    // starts-up an IPython Comm through the \"matplotlib\" channel.\n",
       "\n",
       "    var id = msg.content.data.id;\n",
       "    // Get hold of the div created by the display call when the Comm\n",
       "    // socket was opened in Python.\n",
       "    var element = $(\"#\" + id);\n",
       "    var ws_proxy = comm_websocket_adapter(comm)\n",
       "\n",
       "    function ondownload(figure, format) {\n",
       "        window.open(figure.imageObj.src);\n",
       "    }\n",
       "\n",
       "    var fig = new mpl.figure(id, ws_proxy,\n",
       "                           ondownload,\n",
       "                           element.get(0));\n",
       "\n",
       "    // Call onopen now - mpl needs it, as it is assuming we've passed it a real\n",
       "    // web socket which is closed, not our websocket->open comm proxy.\n",
       "    ws_proxy.onopen();\n",
       "\n",
       "    fig.parent_element = element.get(0);\n",
       "    fig.cell_info = mpl.find_output_cell(\"<div id='\" + id + \"'></div>\");\n",
       "    if (!fig.cell_info) {\n",
       "        console.error(\"Failed to find cell for figure\", id, fig);\n",
       "        return;\n",
       "    }\n",
       "\n",
       "    var output_index = fig.cell_info[2]\n",
       "    var cell = fig.cell_info[0];\n",
       "\n",
       "};\n",
       "\n",
       "mpl.figure.prototype.handle_close = function(fig, msg) {\n",
       "    var width = fig.canvas.width/mpl.ratio\n",
       "    fig.root.unbind('remove')\n",
       "\n",
       "    // Update the output cell to use the data from the current canvas.\n",
       "    fig.push_to_output();\n",
       "    var dataURL = fig.canvas.toDataURL();\n",
       "    // Re-enable the keyboard manager in IPython - without this line, in FF,\n",
       "    // the notebook keyboard shortcuts fail.\n",
       "    IPython.keyboard_manager.enable()\n",
       "    $(fig.parent_element).html('<img src=\"' + dataURL + '\" width=\"' + width + '\">');\n",
       "    fig.close_ws(fig, msg);\n",
       "}\n",
       "\n",
       "mpl.figure.prototype.close_ws = function(fig, msg){\n",
       "    fig.send_message('closing', msg);\n",
       "    // fig.ws.close()\n",
       "}\n",
       "\n",
       "mpl.figure.prototype.push_to_output = function(remove_interactive) {\n",
       "    // Turn the data on the canvas into data in the output cell.\n",
       "    var width = this.canvas.width/mpl.ratio\n",
       "    var dataURL = this.canvas.toDataURL();\n",
       "    this.cell_info[1]['text/html'] = '<img src=\"' + dataURL + '\" width=\"' + width + '\">';\n",
       "}\n",
       "\n",
       "mpl.figure.prototype.updated_canvas_event = function() {\n",
       "    // Tell IPython that the notebook contents must change.\n",
       "    IPython.notebook.set_dirty(true);\n",
       "    this.send_message(\"ack\", {});\n",
       "    var fig = this;\n",
       "    // Wait a second, then push the new image to the DOM so\n",
       "    // that it is saved nicely (might be nice to debounce this).\n",
       "    setTimeout(function () { fig.push_to_output() }, 1000);\n",
       "}\n",
       "\n",
       "mpl.figure.prototype._init_toolbar = function() {\n",
       "    var fig = this;\n",
       "\n",
       "    var nav_element = $('<div/>')\n",
       "    nav_element.attr('style', 'width: 100%');\n",
       "    this.root.append(nav_element);\n",
       "\n",
       "    // Define a callback function for later on.\n",
       "    function toolbar_event(event) {\n",
       "        return fig.toolbar_button_onclick(event['data']);\n",
       "    }\n",
       "    function toolbar_mouse_event(event) {\n",
       "        return fig.toolbar_button_onmouseover(event['data']);\n",
       "    }\n",
       "\n",
       "    for(var toolbar_ind in mpl.toolbar_items){\n",
       "        var name = mpl.toolbar_items[toolbar_ind][0];\n",
       "        var tooltip = mpl.toolbar_items[toolbar_ind][1];\n",
       "        var image = mpl.toolbar_items[toolbar_ind][2];\n",
       "        var method_name = mpl.toolbar_items[toolbar_ind][3];\n",
       "\n",
       "        if (!name) { continue; };\n",
       "\n",
       "        var button = $('<button class=\"btn btn-default\" href=\"#\" title=\"' + name + '\"><i class=\"fa ' + image + ' fa-lg\"></i></button>');\n",
       "        button.click(method_name, toolbar_event);\n",
       "        button.mouseover(tooltip, toolbar_mouse_event);\n",
       "        nav_element.append(button);\n",
       "    }\n",
       "\n",
       "    // Add the status bar.\n",
       "    var status_bar = $('<span class=\"mpl-message\" style=\"text-align:right; float: right;\"/>');\n",
       "    nav_element.append(status_bar);\n",
       "    this.message = status_bar[0];\n",
       "\n",
       "    // Add the close button to the window.\n",
       "    var buttongrp = $('<div class=\"btn-group inline pull-right\"></div>');\n",
       "    var button = $('<button class=\"btn btn-mini btn-primary\" href=\"#\" title=\"Stop Interaction\"><i class=\"fa fa-power-off icon-remove icon-large\"></i></button>');\n",
       "    button.click(function (evt) { fig.handle_close(fig, {}); } );\n",
       "    button.mouseover('Stop Interaction', toolbar_mouse_event);\n",
       "    buttongrp.append(button);\n",
       "    var titlebar = this.root.find($('.ui-dialog-titlebar'));\n",
       "    titlebar.prepend(buttongrp);\n",
       "}\n",
       "\n",
       "mpl.figure.prototype._root_extra_style = function(el){\n",
       "    var fig = this\n",
       "    el.on(\"remove\", function(){\n",
       "\tfig.close_ws(fig, {});\n",
       "    });\n",
       "}\n",
       "\n",
       "mpl.figure.prototype._canvas_extra_style = function(el){\n",
       "    // this is important to make the div 'focusable\n",
       "    el.attr('tabindex', 0)\n",
       "    // reach out to IPython and tell the keyboard manager to turn it's self\n",
       "    // off when our div gets focus\n",
       "\n",
       "    // location in version 3\n",
       "    if (IPython.notebook.keyboard_manager) {\n",
       "        IPython.notebook.keyboard_manager.register_events(el);\n",
       "    }\n",
       "    else {\n",
       "        // location in version 2\n",
       "        IPython.keyboard_manager.register_events(el);\n",
       "    }\n",
       "\n",
       "}\n",
       "\n",
       "mpl.figure.prototype._key_event_extra = function(event, name) {\n",
       "    var manager = IPython.notebook.keyboard_manager;\n",
       "    if (!manager)\n",
       "        manager = IPython.keyboard_manager;\n",
       "\n",
       "    // Check for shift+enter\n",
       "    if (event.shiftKey && event.which == 13) {\n",
       "        this.canvas_div.blur();\n",
       "        // select the cell after this one\n",
       "        var index = IPython.notebook.find_cell_index(this.cell_info[0]);\n",
       "        IPython.notebook.select(index + 1);\n",
       "    }\n",
       "}\n",
       "\n",
       "mpl.figure.prototype.handle_save = function(fig, msg) {\n",
       "    fig.ondownload(fig, null);\n",
       "}\n",
       "\n",
       "\n",
       "mpl.find_output_cell = function(html_output) {\n",
       "    // Return the cell and output element which can be found *uniquely* in the notebook.\n",
       "    // Note - this is a bit hacky, but it is done because the \"notebook_saving.Notebook\"\n",
       "    // IPython event is triggered only after the cells have been serialised, which for\n",
       "    // our purposes (turning an active figure into a static one), is too late.\n",
       "    var cells = IPython.notebook.get_cells();\n",
       "    var ncells = cells.length;\n",
       "    for (var i=0; i<ncells; i++) {\n",
       "        var cell = cells[i];\n",
       "        if (cell.cell_type === 'code'){\n",
       "            for (var j=0; j<cell.output_area.outputs.length; j++) {\n",
       "                var data = cell.output_area.outputs[j];\n",
       "                if (data.data) {\n",
       "                    // IPython >= 3 moved mimebundle to data attribute of output\n",
       "                    data = data.data;\n",
       "                }\n",
       "                if (data['text/html'] == html_output) {\n",
       "                    return [cell, data, j];\n",
       "                }\n",
       "            }\n",
       "        }\n",
       "    }\n",
       "}\n",
       "\n",
       "// Register the function which deals with the matplotlib target/channel.\n",
       "// The kernel may be null if the page has been refreshed.\n",
       "if (IPython.notebook.kernel != null) {\n",
       "    IPython.notebook.kernel.comm_manager.register_target('matplotlib', mpl.mpl_figure_comm);\n",
       "}\n"
      ],
      "text/plain": [
       "<IPython.core.display.Javascript object>"
      ]
     },
     "metadata": {},
     "output_type": "display_data"
    },
    {
     "data": {
      "text/html": [
       "<img src=\"data:image/png;base64,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\" width=\"432\">"
      ],
      "text/plain": [
       "<IPython.core.display.HTML object>"
      ]
     },
     "metadata": {},
     "output_type": "display_data"
    },
    {
     "data": {
      "text/plain": [
       "<matplotlib.legend.Legend at 0x7f53f2b522e8>"
      ]
     },
     "execution_count": 59,
     "metadata": {},
     "output_type": "execute_result"
    }
   ],
   "source": [
    "#Plot x^2\n",
    "pyplot.plot(xarray,pow2,color='red',linestyle='-', label='$x^2$')\n",
    "#Plot x^3\n",
    "pyplot.plot(xarray,pow3,color='green',linestyle='-', label='$x^3$')\n",
    "#Plot sqrt(x)\n",
    "pyplot.plot(xarray,pow_half,color='blue',linestyle='-', label='$\\sqrt{x}$')\n",
    "#Plot the legends in the best location\n",
    "pyplot.legend(loc='best')\n"
   ]
  },
  {
   "cell_type": "markdown",
   "metadata": {},
   "source": [
    "**Exercise:**\n",
    "\n",
    "1. Explore how you can  get the coordinates of the a certain point dynamically, zoom in a rectangle zone and move around the plot.\n",
    "2. Pick an operation to apply to the `xarray` and plot it. "
   ]
  },
  {
   "cell_type": "code",
   "execution_count": null,
   "metadata": {
    "collapsed": true
   },
   "outputs": [],
   "source": []
  },
  {
   "cell_type": "code",
   "execution_count": null,
   "metadata": {
    "collapsed": true
   },
   "outputs": [],
   "source": []
  },
  {
   "cell_type": "code",
   "execution_count": null,
   "metadata": {
    "collapsed": true
   },
   "outputs": [],
   "source": []
  },
  {
   "cell_type": "code",
   "execution_count": 51,
   "metadata": {},
   "outputs": [
    {
     "data": {
      "text/html": [
       "<link href=\"https://fonts.googleapis.com/css?family=Merriweather:300,300i,400,400i,700,700i,900,900i\" rel=\"stylesheet\">\n",
       "<link href=\"https://fonts.googleapis.com/css?family=Source+Sans+Pro:300,300i,400,400i,700,700i\" rel=\"stylesheet\">\n",
       "<link href='http://fonts.googleapis.com/css?family=Source+Code+Pro:300,400' rel='stylesheet' type='text/css'>\n",
       "<style>\n",
       "\n",
       "@font-face {\n",
       "    font-family: \"Computer Modern\";\n",
       "    src: url('http://mirrors.ctan.org/fonts/cm-unicode/fonts/otf/cmunss.otf');\n",
       "}\n",
       "\n",
       "\n",
       "#notebook_panel { /* main background */\n",
       "    background: rgb(245,245,245);\n",
       "}\n",
       "\n",
       "div.cell { /* set cell width */\n",
       "    width: 800px;\n",
       "}\n",
       "\n",
       "div #notebook { /* centre the content */\n",
       "    background: #fff; /* white background for content */\n",
       "    width: 1000px;\n",
       "    margin: auto;\n",
       "    padding-left: 0em;\n",
       "}\n",
       "\n",
       "#notebook li { /* More space between bullet points */\n",
       "margin-top:0.8em;\n",
       "}\n",
       "\n",
       "/* draw border around running cells */\n",
       "div.cell.border-box-sizing.code_cell.running { \n",
       "    border: 1px solid #111;\n",
       "}\n",
       "\n",
       "/* Put a solid color box around each cell and its output, visually linking them*/\n",
       "div.cell.code_cell {\n",
       "    background-color: rgb(256,256,256); \n",
       "    border-radius: 0px; \n",
       "    padding: 0.5em;\n",
       "    margin-left:1em;\n",
       "    margin-top: 1em;\n",
       "}\n",
       "\n",
       "\n",
       "div.text_cell_render{\n",
       "    font-family: 'Source Sans Pro', sans-serif;\n",
       "    line-height: 140%;\n",
       "    font-size: 110%;\n",
       "    width:680px;\n",
       "    margin-left:auto;\n",
       "    margin-right:auto;\n",
       "}\n",
       "\n",
       "/* Formatting for header cells */\n",
       ".text_cell_render h1 {\n",
       "    font-family: 'Merriweather', serif;\n",
       "    font-style:regular;\n",
       "    font-weight: bold;    \n",
       "    font-size: 250%;\n",
       "    line-height: 100%;\n",
       "    color: #004065;\n",
       "    margin-bottom: 1em;\n",
       "    margin-top: 0.5em;\n",
       "    display: block;\n",
       "}\t\n",
       ".text_cell_render h2 {\n",
       "    font-family: 'Merriweather', serif;\n",
       "    font-weight: bold; \n",
       "    font-size: 180%;\n",
       "    line-height: 100%;\n",
       "    color: #0096d6;\n",
       "    margin-bottom: 0.5em;\n",
       "    margin-top: 0.5em;\n",
       "    display: block;\n",
       "}\t\n",
       "\n",
       ".text_cell_render h3 {\n",
       "    font-family: 'Merriweather', serif;\n",
       "\tfont-size: 150%;\n",
       "    margin-top:12px;\n",
       "    margin-bottom: 3px;\n",
       "    font-style: regular;\n",
       "    color: #008367;\n",
       "}\n",
       "\n",
       ".text_cell_render h4 {    /*Use this for captions*/\n",
       "    font-family: 'Merriweather', serif;\n",
       "    font-weight: 300; \n",
       "    font-size: 100%;\n",
       "    line-height: 120%;\n",
       "    text-align: center;\n",
       "    margin-top: 1em;\n",
       "    margin-bottom: 2em;\n",
       "    font-style: regular;\n",
       "}\n",
       "\n",
       ".text_cell_render h5 {  /*Use this for small titles*/\n",
       "    font-family: 'Source Sans Pro', sans-serif;\n",
       "    font-weight: regular;\n",
       "    font-size: 130%;\n",
       "    color: #e31937;\n",
       "    font-style: italic;\n",
       "    margin-bottom: .5em;\n",
       "    margin-top: 1em;\n",
       "    display: block;\n",
       "}\n",
       "\n",
       ".text_cell_render h6 { /*use this for copyright note*/\n",
       "    font-family: 'Source Code Pro', sans-serif;\n",
       "    font-weight: 300;\n",
       "    font-size: 9pt;\n",
       "    line-height: 100%;\n",
       "    color: grey;\n",
       "    margin-bottom: 1px;\n",
       "    margin-top: 1px;\n",
       "}\n",
       "\n",
       "    .CodeMirror{\n",
       "            font-family: \"Source Code Pro\";\n",
       "\t\t\tfont-size: 90%;\n",
       "    }\n",
       "/*    .prompt{\n",
       "        display: None;\n",
       "    }*/\n",
       "\t\n",
       "    \n",
       "    .warning{\n",
       "        color: rgb( 240, 20, 20 )\n",
       "        }  \n",
       "</style>\n",
       "<script>\n",
       "    MathJax.Hub.Config({\n",
       "                        TeX: {\n",
       "                           extensions: [\"AMSmath.js\"], \n",
       "                           equationNumbers: { autoNumber: \"AMS\", useLabelIds: true}\n",
       "                           },\n",
       "                tex2jax: {\n",
       "                    inlineMath: [ ['$','$'], [\"\\\\(\",\"\\\\)\"] ],\n",
       "                    displayMath: [ ['$$','$$'], [\"\\\\[\",\"\\\\]\"] ]\n",
       "                },\n",
       "                displayAlign: 'center', // Change this to 'center' to center equations.\n",
       "                \"HTML-CSS\": {\n",
       "                    styles: {'.MathJax_Display': {\"margin\": 4}}\n",
       "                }\n",
       "        });\n",
       "</script>\n"
      ],
      "text/plain": [
       "<IPython.core.display.HTML object>"
      ]
     },
     "execution_count": 51,
     "metadata": {},
     "output_type": "execute_result"
    }
   ],
   "source": [
    "# Execute this cell to load the notebook's style sheet, then ignore it\n",
    "from IPython.core.display import HTML\n",
    "css_file = '../../style/custom.css'\n",
    "HTML(open(css_file, \"r\").read())"
   ]
  }
 ],
 "metadata": {
  "kernelspec": {
   "display_name": "Python 3",
   "language": "python",
   "name": "python3"
  },
  "language_info": {
   "codemirror_mode": {
    "name": "ipython",
    "version": 3
   },
   "file_extension": ".py",
   "mimetype": "text/x-python",
   "name": "python",
   "nbconvert_exporter": "python",
   "pygments_lexer": "ipython3",
   "version": "3.5.3"
  }
 },
 "nbformat": 4,
 "nbformat_minor": 2
}
