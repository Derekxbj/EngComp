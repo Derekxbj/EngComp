{
 "cells": [
  {
   "cell_type": "code",
   "execution_count": null,
   "metadata": {
    "collapsed": true
   },
   "outputs": [],
   "source": [
    "import numpy\n",
    "from matplotlib import pyplot\n",
    "%matplotlib inline\n",
    "\n",
    "from matplotlib import rcParams\n",
    "rcParams['font.family'] = 'serif'\n",
    "rcParams['font.size'] = 14"
   ]
  },
  {
   "cell_type": "markdown",
   "metadata": {},
   "source": [
    "Newton's law applied to the general (driven, damped, nonlinear) spring-mass system is:\n",
    "\n",
    "\\begin{equation}\n",
    " m \\ddot{x} = F(t) -f(\\dot{x}) - k(x)\n",
    "\\end{equation}\n",
    "\n",
    "where\n",
    "* $F(t)$ is the driving force\n",
    "* $f(\\dot{x})$ is the damping force\n",
    "* $k(x)$ is the restoring force, possibly nonlinear\n",
    "\n",
    "In system form:\n",
    "\n",
    "\\begin{eqnarray}\n",
    "\\dot{x} &=& v \\nonumber\\\\\n",
    "\\dot{v} &=& \\frac{1}{m} \\left( F(t) - k(x) - f(v) \\right)\n",
    "\\end{eqnarray}\n",
    "\n",
    "State vector:\n",
    "\\begin{equation}\n",
    "\\mathbf{x} = \\begin{bmatrix}\n",
    "x \\\\ v\n",
    "\\end{bmatrix},\n",
    "\\end{equation}\n",
    "\n",
    "differential equation in vector form:\n",
    "\n",
    "\\begin{equation}\n",
    "\\dot{\\mathbf{x}} = \\begin{bmatrix}\n",
    "v \\\\ \\frac{1}{m} \\left( F(t) - k(x) - f(v) \\right)\n",
    "\\end{bmatrix}.\n",
    "\\end{equation}\n",
    "\n",
    "Take linear restoring force, linear damping: $k(x)= kx$, $f(v)=bv$, no driving.\n",
    "\n",
    "\n",
    "\\begin{equation}\n",
    "\\dot{\\mathbf{x}} = \\begin{bmatrix}\n",
    "v \\\\ \\frac{1}{m} \\left( - kx - bv \\right)\n",
    "\\end{bmatrix}.\n",
    "\\end{equation}"
   ]
  },
  {
   "cell_type": "code",
   "execution_count": null,
   "metadata": {
    "collapsed": true
   },
   "outputs": [],
   "source": [
    "# new version of the function, taking time as explicit argument\n",
    "def euler_cromer(state, rhs, time, dt):\n",
    "    '''Update a state to the next time increment using Euler-Cromer's method.\n",
    "    \n",
    "    Arguments\n",
    "    ---------\n",
    "    state : array of dependent variables\n",
    "    rhs   : function that computes the RHS of the DE, taking (state,t)\n",
    "    t     : float, time instant\n",
    "    dt    : float, time step\n",
    "    \n",
    "    Returns\n",
    "    -------\n",
    "    next_state : array, state vector updated after one time increment'''\n",
    "    \n",
    "    mid_state = state + rhs(state, time)*dt # Euler step\n",
    "    mid_derivs = rhs(mid_state, time)       # update derivatives\n",
    "    \n",
    "    next_state = numpy.array([mid_state[0], state[1] + mid_derivs[1]*dt])\n",
    "    \n",
    "    return next_state"
   ]
  },
  {
   "cell_type": "code",
   "execution_count": null,
   "metadata": {},
   "outputs": [],
   "source": [
    "def dampedspring(state, time):\n",
    "    '''Computes the right-hand side of the spring-mass differential \n",
    "    equation, with linear damping.\n",
    "    \n",
    "    Arguments\n",
    "    --------- \n",
    "    state : array of two dependent variables [x, v]^T\n",
    "    time : float, time instant\n",
    "    \n",
    "    Returns \n",
    "    -------\n",
    "    derivs: array of two derivatives [v, 1/m(-kx -bv)]^T\n",
    "    '''\n",
    "    \n",
    "    derivs = numpy.array([state[1], 1/m*(-k*state[0]-b*state[1])])\n",
    "    return derivs"
   ]
  },
  {
   "cell_type": "markdown",
   "metadata": {},
   "source": [
    "Examples from section 4.3.9 \n",
    "https://link.springer.com/chapter/10.1007%2F978-3-319-32428-9_4#Fig25"
   ]
  },
  {
   "cell_type": "code",
   "execution_count": null,
   "metadata": {
    "collapsed": true
   },
   "outputs": [],
   "source": [
    "m = 1\n",
    "k = 1\n",
    "b = 0.3"
   ]
  },
  {
   "cell_type": "code",
   "execution_count": null,
   "metadata": {
    "collapsed": true
   },
   "outputs": [],
   "source": [
    "x0 = 1    # initial position\n",
    "v0 = 0    # initial velocity"
   ]
  },
  {
   "cell_type": "code",
   "execution_count": null,
   "metadata": {},
   "outputs": [],
   "source": [
    "T = 12*numpy.pi\n",
    "N = 5000\n",
    "dt = T/N\n",
    "\n",
    "t = numpy.linspace(0, T, N)"
   ]
  },
  {
   "cell_type": "code",
   "execution_count": null,
   "metadata": {
    "collapsed": true
   },
   "outputs": [],
   "source": [
    "num_sol = numpy.zeros([N,2]) #initialize solution array\n",
    "\n",
    "#Set intial conditions\n",
    "num_sol[0,0] = x0\n",
    "num_sol[0,1] = v0"
   ]
  },
  {
   "cell_type": "code",
   "execution_count": null,
   "metadata": {},
   "outputs": [],
   "source": [
    "for i in range(N-1):\n",
    "    num_sol[i+1] = euler_cromer(num_sol[i], dampedspring, t[i], dt)"
   ]
  },
  {
   "cell_type": "code",
   "execution_count": null,
   "metadata": {},
   "outputs": [],
   "source": [
    "fig = pyplot.figure(figsize=(6,4))\n",
    "\n",
    "pyplot.plot(t, num_sol[:, 0], linewidth=2, linestyle='-')\n",
    "pyplot.xlabel('Time [s]')\n",
    "pyplot.ylabel('$x$ [m]')\n",
    "pyplot.title('Damped spring-mass system with Euler-Cromer method.\\n')\n",
    "pyplot.figtext(0,0,'$m=1$, $k=1$, $b=0.3$');"
   ]
  },
  {
   "cell_type": "markdown",
   "metadata": {},
   "source": [
    "The result above shows that the oscillations die down over a few periods. Matches [Fig. 4.27](https://link.springer.com/chapter/10.1007%2F978-3-319-32428-9_4#Fig27) of Ref. [1]."
   ]
  },
  {
   "cell_type": "code",
   "execution_count": null,
   "metadata": {},
   "outputs": [],
   "source": [
    "u'\\u03C9'"
   ]
  },
  {
   "cell_type": "code",
   "execution_count": null,
   "metadata": {
    "collapsed": true
   },
   "outputs": [],
   "source": [
    "A = 0.5\n",
    "ω = 3"
   ]
  },
  {
   "cell_type": "code",
   "execution_count": null,
   "metadata": {
    "collapsed": true
   },
   "outputs": [],
   "source": [
    "from math import sin\n",
    "F = lambda time: A*sin(ω*time)"
   ]
  },
  {
   "cell_type": "markdown",
   "metadata": {},
   "source": [
    "Unicode for greek letters from https://gist.github.com/beniwohli/765262"
   ]
  },
  {
   "cell_type": "code",
   "execution_count": null,
   "metadata": {
    "collapsed": true
   },
   "outputs": [],
   "source": [
    "def drivenspring(state, time):\n",
    "    '''Computes the right-hand side of the spring-mass differential \n",
    "    equation, with sinusoidal driving and linear damping.\n",
    "    \n",
    "    Arguments\n",
    "    ---------   \n",
    "    state : array of two dependent variables [x, v]^T\n",
    "    time  : float, time instant\n",
    "    \n",
    "    Returns \n",
    "    -------\n",
    "    derivs: array of two derivatives [v, 1/m*(F(t)-kx -bv)]^T\n",
    "    '''\n",
    "      \n",
    "    derivs = numpy.array([state[1], 1/m*(F(time)-k*state[0]-b*state[1])])\n",
    "    return derivs"
   ]
  },
  {
   "cell_type": "code",
   "execution_count": null,
   "metadata": {
    "collapsed": true
   },
   "outputs": [],
   "source": [
    "for i in range(N-1):\n",
    "    num_sol[i+1] = euler_cromer(num_sol[i], drivenspring, t[i], dt)"
   ]
  },
  {
   "cell_type": "code",
   "execution_count": null,
   "metadata": {},
   "outputs": [],
   "source": [
    "fig = pyplot.figure(figsize=(6,4))\n",
    "\n",
    "pyplot.plot(t, num_sol[:, 0], linewidth=2, linestyle='-')\n",
    "pyplot.xlabel('Time [s]')\n",
    "pyplot.ylabel('$x$ [m]')\n",
    "pyplot.title('Damped spring-mass system with Euler-Cromer method.\\n');"
   ]
  },
  {
   "cell_type": "code",
   "execution_count": null,
   "metadata": {
    "collapsed": true
   },
   "outputs": [],
   "source": [
    "ω = 1\n",
    "b = 0.1"
   ]
  },
  {
   "cell_type": "code",
   "execution_count": null,
   "metadata": {
    "collapsed": true
   },
   "outputs": [],
   "source": [
    "for i in range(N-1):\n",
    "    num_sol[i+1] = euler_cromer(num_sol[i], drivenspring, t[i], dt)"
   ]
  },
  {
   "cell_type": "code",
   "execution_count": null,
   "metadata": {},
   "outputs": [],
   "source": [
    "fig = pyplot.figure(figsize=(6,4))\n",
    "\n",
    "pyplot.plot(t, num_sol[:, 0], linewidth=2, linestyle='-')\n",
    "pyplot.xlabel('Time [s]')\n",
    "pyplot.ylabel('$x$ [m]')\n",
    "pyplot.title('Damped spring-mass system with Euler-Cromer method.\\n');"
   ]
  },
  {
   "cell_type": "code",
   "execution_count": null,
   "metadata": {},
   "outputs": [],
   "source": [
    "numpy.max(num_sol[:,0])"
   ]
  },
  {
   "cell_type": "code",
   "execution_count": null,
   "metadata": {
    "collapsed": true
   },
   "outputs": [],
   "source": [
    "coords = numpy.linspace(-4,4,11)\n",
    "X, Y = numpy.meshgrid(coords, coords)"
   ]
  },
  {
   "cell_type": "code",
   "execution_count": null,
   "metadata": {},
   "outputs": [],
   "source": [
    "numpy.shape(X)"
   ]
  },
  {
   "cell_type": "code",
   "execution_count": null,
   "metadata": {
    "collapsed": true
   },
   "outputs": [],
   "source": [
    "U = Y\n",
    "V = 1/m * (-k*X -b*Y)"
   ]
  },
  {
   "cell_type": "code",
   "execution_count": null,
   "metadata": {
    "collapsed": true
   },
   "outputs": [],
   "source": [
    "M = numpy.hypot(U, V)\n",
    "M[ M == 0] = 1\n",
    "U = U/M\n",
    "V = V/M"
   ]
  },
  {
   "cell_type": "code",
   "execution_count": null,
   "metadata": {},
   "outputs": [],
   "source": [
    "fig = pyplot.figure(figsize=(7,7))\n",
    "pyplot.quiver(X,Y,U,V, pivot='mid');"
   ]
  },
  {
   "cell_type": "code",
   "execution_count": null,
   "metadata": {
    "collapsed": true
   },
   "outputs": [],
   "source": [
    "numpy.hypot?"
   ]
  },
  {
   "cell_type": "code",
   "execution_count": null,
   "metadata": {
    "collapsed": true
   },
   "outputs": [],
   "source": []
  }
 ],
 "metadata": {
  "kernelspec": {
   "display_name": "Python 3",
   "language": "python",
   "name": "python3"
  },
  "language_info": {
   "codemirror_mode": {
    "name": "ipython",
    "version": 3
   },
   "file_extension": ".py",
   "mimetype": "text/x-python",
   "name": "python",
   "nbconvert_exporter": "python",
   "pygments_lexer": "ipython3",
   "version": "3.6.2"
  }
 },
 "nbformat": 4,
 "nbformat_minor": 2
}
