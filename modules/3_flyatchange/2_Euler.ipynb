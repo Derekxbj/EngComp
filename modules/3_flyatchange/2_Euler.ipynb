{
 "cells": [
  {
   "cell_type": "code",
   "execution_count": null,
   "metadata": {
    "collapsed": true
   },
   "outputs": [],
   "source": [
    "import numpy\n",
    "from matplotlib import pyplot"
   ]
  },
  {
   "cell_type": "code",
   "execution_count": null,
   "metadata": {
    "collapsed": true
   },
   "outputs": [],
   "source": [
    "filename = '../../data/therocket.txt'\n",
    "t, a = numpy.loadtxt(filename, usecols=[0,1], unpack=True)"
   ]
  },
  {
   "cell_type": "code",
   "execution_count": null,
   "metadata": {
    "collapsed": true
   },
   "outputs": [],
   "source": [
    "%matplotlib inline\n",
    "\n",
    "#Import rcParams to set font styles\n",
    "from matplotlib import rcParams\n",
    "\n",
    "#Set font style and size \n",
    "rcParams['font.family'] = 'serif'\n",
    "rcParams['font.size'] = 14"
   ]
  },
  {
   "cell_type": "code",
   "execution_count": null,
   "metadata": {},
   "outputs": [],
   "source": [
    "fig = pyplot.figure(figsize=(8, 3))\n",
    "\n",
    "pyplot.plot(t, a, color='#004065', linestyle='-', linewidth=1) \n",
    "pyplot.title('Acceleration of roller-coster ride (data from [1]). \\n')\n",
    "pyplot.xlabel('Time [s]')\n",
    "pyplot.ylabel('$a$ [m/s$^2$]')\n",
    "pyplot.grid();"
   ]
  },
  {
   "cell_type": "code",
   "execution_count": null,
   "metadata": {},
   "outputs": [],
   "source": [
    "dt = t[1]-t[0]\n",
    "dt"
   ]
  },
  {
   "cell_type": "code",
   "execution_count": null,
   "metadata": {},
   "outputs": [],
   "source": [
    "N = len(t)\n",
    "N"
   ]
  },
  {
   "cell_type": "code",
   "execution_count": null,
   "metadata": {
    "collapsed": true
   },
   "outputs": [],
   "source": [
    "v = numpy.zeros(N)\n",
    "x = numpy.zeros(N)"
   ]
  },
  {
   "cell_type": "code",
   "execution_count": null,
   "metadata": {},
   "outputs": [],
   "source": [
    "for n in range(N-1):\n",
    "    v[n+1] = v[n] + a[n]*dt\n",
    "    x[n+1] = x[n] + v[n]*dt"
   ]
  },
  {
   "cell_type": "code",
   "execution_count": null,
   "metadata": {},
   "outputs": [],
   "source": [
    "fig = pyplot.figure(figsize=(10,6))\n",
    "\n",
    "pyplot.subplot(211)\n",
    "pyplot.plot(t,  v, color='#0096d6', linestyle='-', linewidth=1) \n",
    "pyplot.title('Velocity and position of roller-coster ride (data from [1]). \\n')\n",
    "pyplot.ylabel('$v$ [m/s] ')\n",
    "\n",
    "pyplot.subplot(212)\n",
    "pyplot.plot(t,  x, color='#008367', linestyle='-', linewidth=1) \n",
    "pyplot.xlabel('Time [s]')\n",
    "pyplot.ylabel('$x$ [m]');"
   ]
  },
  {
   "cell_type": "code",
   "execution_count": null,
   "metadata": {
    "collapsed": true
   },
   "outputs": [],
   "source": []
  },
  {
   "cell_type": "markdown",
   "metadata": {},
   "source": [
    "## References\n",
    "\n",
    "1. _Elementary Mechanics Using Python_ (2015), Anders Malthe-Sorenssen, Undergraduate Lecture Notes in Physics, Springer. Data at http://folk.uio.no/malthe/mechbook/"
   ]
  }
 ],
 "metadata": {
  "kernelspec": {
   "display_name": "Python 3",
   "language": "python",
   "name": "python3"
  },
  "language_info": {
   "codemirror_mode": {
    "name": "ipython",
    "version": 3
   },
   "file_extension": ".py",
   "mimetype": "text/x-python",
   "name": "python",
   "nbconvert_exporter": "python",
   "pygments_lexer": "ipython3",
   "version": "3.6.2"
  }
 },
 "nbformat": 4,
 "nbformat_minor": 2
}
